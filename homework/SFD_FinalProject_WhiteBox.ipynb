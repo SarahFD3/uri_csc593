{
 "cells": [
  {
   "cell_type": "markdown",
   "metadata": {},
   "source": [
    "Introduction\n",
    "The study site is a 154-acre active landfill in New England. Long-term monitoring of groundwater and surface water has been conducted over the past twenty years in accordance with an EPA-approved monitoring and remediation plan. CERLCA requires that extended remediation plans must submit a full status report to EPA every five years. To show the effectiveness of the applied remedial techniques, time series analyses has been performed every five years of sampling data from the beginning of sampling. Currently, the analyses are conducted using the software program Carstat. Carstat, is a “black box” program, in which users input data and export plots without intermediate steps. This program has been used for the majority of the project life and the particular coding behind the statistical analyses is unknown. Therefore, the goal of this code is to recreate this “black box”, enabling future reproducibility of the data analyses. This code is referred to as White Box.\n",
    "\n",
    "For this class, only the past 10 years of data have been used for analysis, as this data is the most complete in terms of the sampling locations and the sampling parameters.\n"
   ]
  },
  {
   "cell_type": "markdown",
   "metadata": {},
   "source": [
    "Section 1. What does the data describe? What are the important fields?"
   ]
  },
  {
   "cell_type": "markdown",
   "metadata": {},
   "source": [
    "Contaminant level data was collected from predetermined locations during quarterly sampling rounds from 2010 to the present (2019). Laboratory testing was performed on each sample to obtain results for 53 volatile organic compouns (VOCs), 43 semi-volatile organic compound (SVOCs), and the following metals: arsenic, beryllium, cadmium, chromium, cyanide, iron, lead, manganese, nickel, nitrates and vanadium. Results from these sampling rounds were stored in SQL-based proprietary relational database. \n",
    "\n",
    "Analytical results from the quarterly groundwater sampling rounds were submitted to the appropriate Federal and State regulatory agencies as tables. After five years, EPA required a time series analysis over five years at a 95% confidence level to assess any statistically significant changes to the levels of the identified contaminants of concern (COCs) in particular sampling locations that showed elevated levels of a particular COC. These COCs were given action levels by the EPA as indicators where further remedial invervention was needed.\n",
    "\n",
    "The final dataset included 116 sampling locations, divided by quarter years (Jan-March, April-June, July-Sept, Oct-Dec). Each location was tested for 106 constituents, with a resulting dataset of approximately 140,000 lines. Any chemicals which did not have an establish action level by the EPA was given an action level of 0. Not all of these sampling locations have required reporting by the EPA (discussed in Section 4)."
   ]
  },
  {
   "cell_type": "markdown",
   "metadata": {},
   "source": [
    "Section 2. Who collected it?"
   ]
  },
  {
   "cell_type": "markdown",
   "metadata": {},
   "source": [
    "The samples were collected by trained environmental scientists/engineers/geologists in labortory provided containers. The samples were delivered to a qualified laboratory for testing. Results were returned as pdfs, excel files, and most recently, as an electronic data deliverable (EDD)."
   ]
  },
  {
   "cell_type": "markdown",
   "metadata": {},
   "source": [
    "Section 3. How was the data collected? Does the data describe a sample or a population?"
   ]
  },
  {
   "cell_type": "markdown",
   "metadata": {},
   "source": [
    "The samples were collected using standard practice field techniques for groundwater/surface water sampling. Most often, the low-flow techniques were used. Water is purged from a well through a YSI meter, which measures a combination of dissolved oxigen, conductivity, specific conductance, resitivity, total dissolved solids, ph, ORP, temperature and turbitity. These parameters were monitored until the well was stabilized, meaning all the mention parameters fell within certain specific ranges over a certain period of time. When the location was considered stabilized, the location was sampled using laboratory provided containers. The samples were delivered the same day, in iced coolers, to the laboratory for testing.\n",
    "\n",
    "The location of the wells and surface water sampling points were determined by inferring groundwater flow on the site, as well as known sources of contamination. In general, the sampling locations are located either downgradient of the source zones (also called \"hot zones\") or around the perimeter of the landfill to monitor any offsite migration. While a particular sampling location may be considered a sample of all the water on a site, the number and location of the sampling points are fairly representative of the \"population\" of all naturally occuring water at the site. "
   ]
  },
  {
   "cell_type": "markdown",
   "metadata": {},
   "source": [
    "Section 4. Describe the process to load, clean, and prepare the data."
   ]
  },
  {
   "cell_type": "markdown",
   "metadata": {},
   "source": [
    "The general structure of this notebook is as follows:\n",
    "1. Import data\n",
    "2. Exclude non-COC wells\n",
    "3. Run time series analysis\n",
    "4. Add trend lines\n",
    "5. Identify statistically significant changes\n",
    "6. Visualizations"
   ]
  },
  {
   "cell_type": "code",
   "execution_count": 3,
   "metadata": {},
   "outputs": [],
   "source": [
    "#Import data and needed packages\n",
    "import numpy as np\n",
    "import pandas as pd\n",
    "import matplotlib.pyplot as plt\n",
    "#Load Dataset with SAMPLE DATE as a date index\n",
    "CLF_original = pd.read_csv('../dataset/CSC593dataset_original.csv', index_col=\"SAMPLEDATE\", parse_dates=[\"SAMPLEDATE\"])\n",
    "\n",
    "CLF_original['jdate'] = CLF_original.index.to_julian_date()"
   ]
  },
  {
   "cell_type": "code",
   "execution_count": 4,
   "metadata": {},
   "outputs": [
    {
     "data": {
      "text/html": [
       "<div>\n",
       "<style scoped>\n",
       "    .dataframe tbody tr th:only-of-type {\n",
       "        vertical-align: middle;\n",
       "    }\n",
       "\n",
       "    .dataframe tbody tr th {\n",
       "        vertical-align: top;\n",
       "    }\n",
       "\n",
       "    .dataframe thead th {\n",
       "        text-align: right;\n",
       "    }\n",
       "</style>\n",
       "<table border=\"1\" class=\"dataframe\">\n",
       "  <thead>\n",
       "    <tr style=\"text-align: right;\">\n",
       "      <th></th>\n",
       "      <th>CAS_RN</th>\n",
       "      <th>CHEMICAL_NAME</th>\n",
       "      <th>AL_RESULT_VALUE</th>\n",
       "      <th>ACTION_LEVEL_UNIT</th>\n",
       "      <th>SYS_LOC_CODE</th>\n",
       "      <th>SYS_SAMPLE_CODE</th>\n",
       "      <th>SAMPLE_ID</th>\n",
       "      <th>SAMPLE_DATE_yyyy-Qq</th>\n",
       "      <th>SAMPLE_TYPE_CODE</th>\n",
       "      <th>MATRIX_CODE</th>\n",
       "      <th>...</th>\n",
       "      <th>REPORT_RESULT_VALUE</th>\n",
       "      <th>REPORT_RESULT_UNIT</th>\n",
       "      <th>REPORT_RESULT_LIMIT</th>\n",
       "      <th>REPORTABLE_RESULT</th>\n",
       "      <th>DETECT_FLAG</th>\n",
       "      <th>LAB_QUALIFIERS</th>\n",
       "      <th>REPORTING_DETECTION_LIMIT</th>\n",
       "      <th>DETECTION_LIMIT_UNIT</th>\n",
       "      <th>METHOD_ANALYTE_GROUP</th>\n",
       "      <th>jdate</th>\n",
       "    </tr>\n",
       "    <tr>\n",
       "      <th>SAMPLEDATE</th>\n",
       "      <th></th>\n",
       "      <th></th>\n",
       "      <th></th>\n",
       "      <th></th>\n",
       "      <th></th>\n",
       "      <th></th>\n",
       "      <th></th>\n",
       "      <th></th>\n",
       "      <th></th>\n",
       "      <th></th>\n",
       "      <th></th>\n",
       "      <th></th>\n",
       "      <th></th>\n",
       "      <th></th>\n",
       "      <th></th>\n",
       "      <th></th>\n",
       "      <th></th>\n",
       "      <th></th>\n",
       "      <th></th>\n",
       "      <th></th>\n",
       "      <th></th>\n",
       "    </tr>\n",
       "  </thead>\n",
       "  <tbody>\n",
       "    <tr>\n",
       "      <th>2010-02-03</th>\n",
       "      <td>100-02-7</td>\n",
       "      <td>4-Nitrophenol</td>\n",
       "      <td>51.0</td>\n",
       "      <td>ug/L</td>\n",
       "      <td>NELF15B</td>\n",
       "      <td>NELF15B020310</td>\n",
       "      <td>2066285</td>\n",
       "      <td>2010-Q1</td>\n",
       "      <td>N</td>\n",
       "      <td>GW</td>\n",
       "      <td>...</td>\n",
       "      <td>51.0</td>\n",
       "      <td>ug/L</td>\n",
       "      <td>51.0</td>\n",
       "      <td>Y</td>\n",
       "      <td>N</td>\n",
       "      <td>R</td>\n",
       "      <td>51.0</td>\n",
       "      <td>ug/L</td>\n",
       "      <td>2019 CLF SVOCs</td>\n",
       "      <td>2455230.5</td>\n",
       "    </tr>\n",
       "    <tr>\n",
       "      <th>2010-02-03</th>\n",
       "      <td>100-41-4</td>\n",
       "      <td>Ethylbenzene</td>\n",
       "      <td>1.0</td>\n",
       "      <td>ug/L</td>\n",
       "      <td>NELF15B</td>\n",
       "      <td>NELF15B020310</td>\n",
       "      <td>2066285</td>\n",
       "      <td>2010-Q1</td>\n",
       "      <td>N</td>\n",
       "      <td>GW</td>\n",
       "      <td>...</td>\n",
       "      <td>1.0</td>\n",
       "      <td>ug/L</td>\n",
       "      <td>1.0</td>\n",
       "      <td>Y</td>\n",
       "      <td>N</td>\n",
       "      <td>R</td>\n",
       "      <td>1.0</td>\n",
       "      <td>ug/L</td>\n",
       "      <td>2019 CLF VOCs</td>\n",
       "      <td>2455230.5</td>\n",
       "    </tr>\n",
       "    <tr>\n",
       "      <th>2010-02-03</th>\n",
       "      <td>100-42-5</td>\n",
       "      <td>Styrene</td>\n",
       "      <td>1.0</td>\n",
       "      <td>ug/L</td>\n",
       "      <td>NELF15B</td>\n",
       "      <td>NELF15B020310</td>\n",
       "      <td>2066285</td>\n",
       "      <td>2010-Q1</td>\n",
       "      <td>N</td>\n",
       "      <td>GW</td>\n",
       "      <td>...</td>\n",
       "      <td>1.0</td>\n",
       "      <td>ug/L</td>\n",
       "      <td>1.0</td>\n",
       "      <td>Y</td>\n",
       "      <td>N</td>\n",
       "      <td>R</td>\n",
       "      <td>1.0</td>\n",
       "      <td>ug/L</td>\n",
       "      <td>2019 CLF VOCs</td>\n",
       "      <td>2455230.5</td>\n",
       "    </tr>\n",
       "    <tr>\n",
       "      <th>2010-02-03</th>\n",
       "      <td>10061-01-5</td>\n",
       "      <td>cis-1,3-Dichloropropene</td>\n",
       "      <td>0.5</td>\n",
       "      <td>ug/L</td>\n",
       "      <td>NELF15B</td>\n",
       "      <td>NELF15B020310</td>\n",
       "      <td>2066285</td>\n",
       "      <td>2010-Q1</td>\n",
       "      <td>N</td>\n",
       "      <td>GW</td>\n",
       "      <td>...</td>\n",
       "      <td>0.5</td>\n",
       "      <td>ug/L</td>\n",
       "      <td>0.5</td>\n",
       "      <td>Y</td>\n",
       "      <td>N</td>\n",
       "      <td>NaN</td>\n",
       "      <td>0.5</td>\n",
       "      <td>ug/L</td>\n",
       "      <td>2019 CLF VOCs</td>\n",
       "      <td>2455230.5</td>\n",
       "    </tr>\n",
       "    <tr>\n",
       "      <th>2010-02-03</th>\n",
       "      <td>10061-02-6</td>\n",
       "      <td>trans-1,3-Dichloropropene</td>\n",
       "      <td>0.5</td>\n",
       "      <td>ug/L</td>\n",
       "      <td>NELF15B</td>\n",
       "      <td>NELF15B020310</td>\n",
       "      <td>2066285</td>\n",
       "      <td>2010-Q1</td>\n",
       "      <td>N</td>\n",
       "      <td>GW</td>\n",
       "      <td>...</td>\n",
       "      <td>0.5</td>\n",
       "      <td>ug/L</td>\n",
       "      <td>0.5</td>\n",
       "      <td>Y</td>\n",
       "      <td>N</td>\n",
       "      <td>NaN</td>\n",
       "      <td>0.5</td>\n",
       "      <td>ug/L</td>\n",
       "      <td>2019 CLF VOCs</td>\n",
       "      <td>2455230.5</td>\n",
       "    </tr>\n",
       "  </tbody>\n",
       "</table>\n",
       "<p>5 rows × 25 columns</p>\n",
       "</div>"
      ],
      "text/plain": [
       "                CAS_RN              CHEMICAL_NAME  AL_RESULT_VALUE  \\\n",
       "SAMPLEDATE                                                           \n",
       "2010-02-03    100-02-7              4-Nitrophenol             51.0   \n",
       "2010-02-03    100-41-4               Ethylbenzene              1.0   \n",
       "2010-02-03    100-42-5                    Styrene              1.0   \n",
       "2010-02-03  10061-01-5    cis-1,3-Dichloropropene              0.5   \n",
       "2010-02-03  10061-02-6  trans-1,3-Dichloropropene              0.5   \n",
       "\n",
       "           ACTION_LEVEL_UNIT SYS_LOC_CODE SYS_SAMPLE_CODE  SAMPLE_ID  \\\n",
       "SAMPLEDATE                                                             \n",
       "2010-02-03              ug/L      NELF15B   NELF15B020310    2066285   \n",
       "2010-02-03              ug/L      NELF15B   NELF15B020310    2066285   \n",
       "2010-02-03              ug/L      NELF15B   NELF15B020310    2066285   \n",
       "2010-02-03              ug/L      NELF15B   NELF15B020310    2066285   \n",
       "2010-02-03              ug/L      NELF15B   NELF15B020310    2066285   \n",
       "\n",
       "           SAMPLE_DATE_yyyy-Qq SAMPLE_TYPE_CODE MATRIX_CODE    ...      \\\n",
       "SAMPLEDATE                                                     ...       \n",
       "2010-02-03             2010-Q1                N          GW    ...       \n",
       "2010-02-03             2010-Q1                N          GW    ...       \n",
       "2010-02-03             2010-Q1                N          GW    ...       \n",
       "2010-02-03             2010-Q1                N          GW    ...       \n",
       "2010-02-03             2010-Q1                N          GW    ...       \n",
       "\n",
       "           REPORT_RESULT_VALUE REPORT_RESULT_UNIT REPORT_RESULT_LIMIT  \\\n",
       "SAMPLEDATE                                                              \n",
       "2010-02-03                51.0               ug/L                51.0   \n",
       "2010-02-03                 1.0               ug/L                 1.0   \n",
       "2010-02-03                 1.0               ug/L                 1.0   \n",
       "2010-02-03                 0.5               ug/L                 0.5   \n",
       "2010-02-03                 0.5               ug/L                 0.5   \n",
       "\n",
       "           REPORTABLE_RESULT DETECT_FLAG  LAB_QUALIFIERS  \\\n",
       "SAMPLEDATE                                                 \n",
       "2010-02-03                 Y           N               R   \n",
       "2010-02-03                 Y           N               R   \n",
       "2010-02-03                 Y           N               R   \n",
       "2010-02-03                 Y           N             NaN   \n",
       "2010-02-03                 Y           N             NaN   \n",
       "\n",
       "           REPORTING_DETECTION_LIMIT  DETECTION_LIMIT_UNIT  \\\n",
       "SAMPLEDATE                                                   \n",
       "2010-02-03                      51.0                  ug/L   \n",
       "2010-02-03                       1.0                  ug/L   \n",
       "2010-02-03                       1.0                  ug/L   \n",
       "2010-02-03                       0.5                  ug/L   \n",
       "2010-02-03                       0.5                  ug/L   \n",
       "\n",
       "           METHOD_ANALYTE_GROUP      jdate  \n",
       "SAMPLEDATE                                  \n",
       "2010-02-03       2019 CLF SVOCs  2455230.5  \n",
       "2010-02-03        2019 CLF VOCs  2455230.5  \n",
       "2010-02-03        2019 CLF VOCs  2455230.5  \n",
       "2010-02-03        2019 CLF VOCs  2455230.5  \n",
       "2010-02-03        2019 CLF VOCs  2455230.5  \n",
       "\n",
       "[5 rows x 25 columns]"
      ]
     },
     "execution_count": 4,
     "metadata": {},
     "output_type": "execute_result"
    }
   ],
   "source": [
    "#Check if dataset has loaded\n",
    "CLF_original.head()"
   ]
  },
  {
   "cell_type": "code",
   "execution_count": 5,
   "metadata": {},
   "outputs": [
    {
     "data": {
      "text/plain": [
       "(141645, 25)"
      ]
     },
     "execution_count": 5,
     "metadata": {},
     "output_type": "execute_result"
    }
   ],
   "source": [
    "#See shape and context of data\n",
    "CLF_original.shape"
   ]
  },
  {
   "cell_type": "code",
   "execution_count": 6,
   "metadata": {},
   "outputs": [
    {
     "data": {
      "text/plain": [
       "116"
      ]
     },
     "execution_count": 6,
     "metadata": {},
     "output_type": "execute_result"
    }
   ],
   "source": [
    "#Number of sampling locations\n",
    "CLF_original.SYS_LOC_CODE.nunique()"
   ]
  },
  {
   "cell_type": "markdown",
   "metadata": {},
   "source": [
    "Subsetting the Data"
   ]
  },
  {
   "cell_type": "markdown",
   "metadata": {},
   "source": [
    "As mentioned above, SYS_LOC_CODE refers to the sampling location. However, we don't need all 116 locations for the analysis, as the EPA only identified 46 locations with COCs. The first step in cleaning the data would be to subset based on the COC list (located in the dataset folder).  "
   ]
  },
  {
   "cell_type": "code",
   "execution_count": 7,
   "metadata": {},
   "outputs": [
    {
     "data": {
      "text/html": [
       "<div>\n",
       "<style scoped>\n",
       "    .dataframe tbody tr th:only-of-type {\n",
       "        vertical-align: middle;\n",
       "    }\n",
       "\n",
       "    .dataframe tbody tr th {\n",
       "        vertical-align: top;\n",
       "    }\n",
       "\n",
       "    .dataframe thead th {\n",
       "        text-align: right;\n",
       "    }\n",
       "</style>\n",
       "<table border=\"1\" class=\"dataframe\">\n",
       "  <thead>\n",
       "    <tr style=\"text-align: right;\">\n",
       "      <th></th>\n",
       "      <th>SYS_LOC_CODE</th>\n",
       "      <th>Constituent1</th>\n",
       "      <th>Constituent2</th>\n",
       "      <th>Constituent3</th>\n",
       "      <th>Constituent4</th>\n",
       "      <th>Constituent5</th>\n",
       "      <th>Constituent6</th>\n",
       "      <th>Constituent7</th>\n",
       "    </tr>\n",
       "  </thead>\n",
       "  <tbody>\n",
       "    <tr>\n",
       "      <th>0</th>\n",
       "      <td>SW4</td>\n",
       "      <td>arsenic</td>\n",
       "      <td>beryllium</td>\n",
       "      <td>chlorobenzene</td>\n",
       "      <td>manganese</td>\n",
       "      <td>nitrate as N</td>\n",
       "      <td>NaN</td>\n",
       "      <td>NaN</td>\n",
       "    </tr>\n",
       "    <tr>\n",
       "      <th>1</th>\n",
       "      <td>SW4EFF</td>\n",
       "      <td>nitrate as N</td>\n",
       "      <td>NaN</td>\n",
       "      <td>NaN</td>\n",
       "      <td>NaN</td>\n",
       "      <td>NaN</td>\n",
       "      <td>NaN</td>\n",
       "      <td>NaN</td>\n",
       "    </tr>\n",
       "    <tr>\n",
       "      <th>2</th>\n",
       "      <td>SW5</td>\n",
       "      <td>arsenic</td>\n",
       "      <td>iron</td>\n",
       "      <td>lead</td>\n",
       "      <td>manganese</td>\n",
       "      <td>nitrate as N</td>\n",
       "      <td>NaN</td>\n",
       "      <td>NaN</td>\n",
       "    </tr>\n",
       "    <tr>\n",
       "      <th>3</th>\n",
       "      <td>SW7</td>\n",
       "      <td>lead</td>\n",
       "      <td>manganese</td>\n",
       "      <td>nitrate as N</td>\n",
       "      <td>NaN</td>\n",
       "      <td>NaN</td>\n",
       "      <td>NaN</td>\n",
       "      <td>NaN</td>\n",
       "    </tr>\n",
       "    <tr>\n",
       "      <th>4</th>\n",
       "      <td>SW107</td>\n",
       "      <td>beryllium</td>\n",
       "      <td>lead</td>\n",
       "      <td>manganese</td>\n",
       "      <td>nitrate as N</td>\n",
       "      <td>NaN</td>\n",
       "      <td>NaN</td>\n",
       "      <td>NaN</td>\n",
       "    </tr>\n",
       "  </tbody>\n",
       "</table>\n",
       "</div>"
      ],
      "text/plain": [
       "  SYS_LOC_CODE  Constituent1 Constituent2   Constituent3  Constituent4  \\\n",
       "0          SW4       arsenic    beryllium  chlorobenzene     manganese   \n",
       "1       SW4EFF  nitrate as N          NaN            NaN           NaN   \n",
       "2          SW5       arsenic         iron           lead     manganese   \n",
       "3          SW7          lead    manganese   nitrate as N           NaN   \n",
       "4        SW107     beryllium         lead     manganese   nitrate as N   \n",
       "\n",
       "   Constituent5 Constituent6 Constituent7  \n",
       "0  nitrate as N          NaN          NaN  \n",
       "1           NaN          NaN          NaN  \n",
       "2  nitrate as N          NaN          NaN  \n",
       "3           NaN          NaN          NaN  \n",
       "4           NaN          NaN          NaN  "
      ]
     },
     "execution_count": 7,
     "metadata": {},
     "output_type": "execute_result"
    }
   ],
   "source": [
    "#Import Contaminant of Concern (COC) list\n",
    "COC_List = pd.read_csv('../dataset/COC_List.csv')\n",
    "#check\n",
    "COC_List.head()"
   ]
  },
  {
   "cell_type": "code",
   "execution_count": 8,
   "metadata": {},
   "outputs": [
    {
     "name": "stdout",
     "output_type": "stream",
     "text": [
      "['SW4', 'SW4EFF', 'SW5', 'SW7', 'SW107', 'MW03ML11', 'MW03ML12A', 'MW03ML12B', 'MW03ML12C', 'MW03ML12D', 'MW03ML12E', 'MW1457S', 'MW1458S', 'MW1460A', 'MW1561A', 'MW1561B', 'MW14ML15A', 'MW14ML15B', 'MW14ML15C', 'MW14ML15D', 'MW14ML16A', 'MW14ML16B', 'MW14ML16C', 'MW14ML16D', 'MW14ML17A', 'MW14ML17B', 'MW14ML17C', 'MW14ML17D', 'MW14ML18A', 'MW14ML18B', 'MW14ML18C', 'MW14ML18D', 'MW14ML19A', 'MW14ML19B', 'MW14ML19C', 'MW14ML19D', 'MW15ML20A', 'MW15ML20B', 'WE87ML5A', 'MWP51AR', 'MWP51B', 'MWP52A', 'MWP52B', 'MWP53A', 'MWP53B', 'WSLCS']\n"
     ]
    }
   ],
   "source": [
    "#Make COC_Loc Column 1 into a list to filter against main dataset.\n",
    "COC_Loc = COC_List[\"SYS_LOC_CODE\"].tolist()\n",
    "#check\n",
    "print(COC_Loc)"
   ]
  },
  {
   "cell_type": "code",
   "execution_count": 9,
   "metadata": {},
   "outputs": [
    {
     "data": {
      "text/plain": [
       "46"
      ]
     },
     "execution_count": 9,
     "metadata": {},
     "output_type": "execute_result"
    }
   ],
   "source": [
    "#Filter data based on COC locations\n",
    "CLF = CLF_original[CLF_original['SYS_LOC_CODE'].isin(COC_Loc)]\n",
    "#Check number of unique location rows\n",
    "CLF.SYS_LOC_CODE.nunique()"
   ]
  },
  {
   "cell_type": "code",
   "execution_count": 18,
   "metadata": {},
   "outputs": [
    {
     "data": {
      "text/html": [
       "<div>\n",
       "<style scoped>\n",
       "    .dataframe tbody tr th:only-of-type {\n",
       "        vertical-align: middle;\n",
       "    }\n",
       "\n",
       "    .dataframe tbody tr th {\n",
       "        vertical-align: top;\n",
       "    }\n",
       "\n",
       "    .dataframe thead th {\n",
       "        text-align: right;\n",
       "    }\n",
       "</style>\n",
       "<table border=\"1\" class=\"dataframe\">\n",
       "  <thead>\n",
       "    <tr style=\"text-align: right;\">\n",
       "      <th></th>\n",
       "      <th>CAS_RN</th>\n",
       "      <th>CHEMICAL_NAME</th>\n",
       "      <th>AL_RESULT_VALUE</th>\n",
       "      <th>ACTION_LEVEL_UNIT</th>\n",
       "      <th>SYS_LOC_CODE</th>\n",
       "      <th>SYS_SAMPLE_CODE</th>\n",
       "      <th>SAMPLE_ID</th>\n",
       "      <th>SAMPLE_DATE_yyyy-Qq</th>\n",
       "      <th>SAMPLE_TYPE_CODE</th>\n",
       "      <th>MATRIX_CODE</th>\n",
       "      <th>...</th>\n",
       "      <th>REPORT_RESULT_VALUE</th>\n",
       "      <th>REPORT_RESULT_UNIT</th>\n",
       "      <th>REPORT_RESULT_LIMIT</th>\n",
       "      <th>REPORTABLE_RESULT</th>\n",
       "      <th>DETECT_FLAG</th>\n",
       "      <th>LAB_QUALIFIERS</th>\n",
       "      <th>REPORTING_DETECTION_LIMIT</th>\n",
       "      <th>DETECTION_LIMIT_UNIT</th>\n",
       "      <th>METHOD_ANALYTE_GROUP</th>\n",
       "      <th>jdate</th>\n",
       "    </tr>\n",
       "    <tr>\n",
       "      <th>SAMPLEDATE</th>\n",
       "      <th></th>\n",
       "      <th></th>\n",
       "      <th></th>\n",
       "      <th></th>\n",
       "      <th></th>\n",
       "      <th></th>\n",
       "      <th></th>\n",
       "      <th></th>\n",
       "      <th></th>\n",
       "      <th></th>\n",
       "      <th></th>\n",
       "      <th></th>\n",
       "      <th></th>\n",
       "      <th></th>\n",
       "      <th></th>\n",
       "      <th></th>\n",
       "      <th></th>\n",
       "      <th></th>\n",
       "      <th></th>\n",
       "      <th></th>\n",
       "      <th></th>\n",
       "    </tr>\n",
       "  </thead>\n",
       "  <tbody>\n",
       "    <tr>\n",
       "      <th>2010-02-05</th>\n",
       "      <td>100-02-7</td>\n",
       "      <td>4-Nitrophenol</td>\n",
       "      <td>53.0</td>\n",
       "      <td>ug/L</td>\n",
       "      <td>SW7</td>\n",
       "      <td>SW7020510</td>\n",
       "      <td>2067131</td>\n",
       "      <td>2010-Q1</td>\n",
       "      <td>N</td>\n",
       "      <td>SW</td>\n",
       "      <td>...</td>\n",
       "      <td>53.0</td>\n",
       "      <td>ug/L</td>\n",
       "      <td>53.0</td>\n",
       "      <td>Y</td>\n",
       "      <td>N</td>\n",
       "      <td>R</td>\n",
       "      <td>53.0</td>\n",
       "      <td>ug/L</td>\n",
       "      <td>2019 CLF SVOCs</td>\n",
       "      <td>2455232.5</td>\n",
       "    </tr>\n",
       "    <tr>\n",
       "      <th>2010-02-05</th>\n",
       "      <td>100-41-4</td>\n",
       "      <td>Ethylbenzene</td>\n",
       "      <td>1.0</td>\n",
       "      <td>ug/L</td>\n",
       "      <td>SW7</td>\n",
       "      <td>SW7020510</td>\n",
       "      <td>2067131</td>\n",
       "      <td>2010-Q1</td>\n",
       "      <td>N</td>\n",
       "      <td>SW</td>\n",
       "      <td>...</td>\n",
       "      <td>1.0</td>\n",
       "      <td>ug/L</td>\n",
       "      <td>1.0</td>\n",
       "      <td>Y</td>\n",
       "      <td>N</td>\n",
       "      <td>R</td>\n",
       "      <td>1.0</td>\n",
       "      <td>ug/L</td>\n",
       "      <td>2019 CLF VOCs</td>\n",
       "      <td>2455232.5</td>\n",
       "    </tr>\n",
       "    <tr>\n",
       "      <th>2010-02-05</th>\n",
       "      <td>100-42-5</td>\n",
       "      <td>Styrene</td>\n",
       "      <td>1.0</td>\n",
       "      <td>ug/L</td>\n",
       "      <td>SW7</td>\n",
       "      <td>SW7020510</td>\n",
       "      <td>2067131</td>\n",
       "      <td>2010-Q1</td>\n",
       "      <td>N</td>\n",
       "      <td>SW</td>\n",
       "      <td>...</td>\n",
       "      <td>1.0</td>\n",
       "      <td>ug/L</td>\n",
       "      <td>1.0</td>\n",
       "      <td>Y</td>\n",
       "      <td>N</td>\n",
       "      <td>R</td>\n",
       "      <td>1.0</td>\n",
       "      <td>ug/L</td>\n",
       "      <td>2019 CLF VOCs</td>\n",
       "      <td>2455232.5</td>\n",
       "    </tr>\n",
       "    <tr>\n",
       "      <th>2010-02-05</th>\n",
       "      <td>10061-01-5</td>\n",
       "      <td>cis-1,3-Dichloropropene</td>\n",
       "      <td>0.5</td>\n",
       "      <td>ug/L</td>\n",
       "      <td>SW7</td>\n",
       "      <td>SW7020510</td>\n",
       "      <td>2067131</td>\n",
       "      <td>2010-Q1</td>\n",
       "      <td>N</td>\n",
       "      <td>SW</td>\n",
       "      <td>...</td>\n",
       "      <td>0.5</td>\n",
       "      <td>ug/L</td>\n",
       "      <td>0.5</td>\n",
       "      <td>Y</td>\n",
       "      <td>N</td>\n",
       "      <td>NaN</td>\n",
       "      <td>0.5</td>\n",
       "      <td>ug/L</td>\n",
       "      <td>2019 CLF VOCs</td>\n",
       "      <td>2455232.5</td>\n",
       "    </tr>\n",
       "    <tr>\n",
       "      <th>2010-02-05</th>\n",
       "      <td>10061-02-6</td>\n",
       "      <td>trans-1,3-Dichloropropene</td>\n",
       "      <td>0.5</td>\n",
       "      <td>ug/L</td>\n",
       "      <td>SW7</td>\n",
       "      <td>SW7020510</td>\n",
       "      <td>2067131</td>\n",
       "      <td>2010-Q1</td>\n",
       "      <td>N</td>\n",
       "      <td>SW</td>\n",
       "      <td>...</td>\n",
       "      <td>0.5</td>\n",
       "      <td>ug/L</td>\n",
       "      <td>0.5</td>\n",
       "      <td>Y</td>\n",
       "      <td>N</td>\n",
       "      <td>NaN</td>\n",
       "      <td>0.5</td>\n",
       "      <td>ug/L</td>\n",
       "      <td>2019 CLF VOCs</td>\n",
       "      <td>2455232.5</td>\n",
       "    </tr>\n",
       "  </tbody>\n",
       "</table>\n",
       "<p>5 rows × 25 columns</p>\n",
       "</div>"
      ],
      "text/plain": [
       "                CAS_RN              CHEMICAL_NAME  AL_RESULT_VALUE  \\\n",
       "SAMPLEDATE                                                           \n",
       "2010-02-05    100-02-7              4-Nitrophenol             53.0   \n",
       "2010-02-05    100-41-4               Ethylbenzene              1.0   \n",
       "2010-02-05    100-42-5                    Styrene              1.0   \n",
       "2010-02-05  10061-01-5    cis-1,3-Dichloropropene              0.5   \n",
       "2010-02-05  10061-02-6  trans-1,3-Dichloropropene              0.5   \n",
       "\n",
       "           ACTION_LEVEL_UNIT SYS_LOC_CODE SYS_SAMPLE_CODE  SAMPLE_ID  \\\n",
       "SAMPLEDATE                                                             \n",
       "2010-02-05              ug/L          SW7       SW7020510    2067131   \n",
       "2010-02-05              ug/L          SW7       SW7020510    2067131   \n",
       "2010-02-05              ug/L          SW7       SW7020510    2067131   \n",
       "2010-02-05              ug/L          SW7       SW7020510    2067131   \n",
       "2010-02-05              ug/L          SW7       SW7020510    2067131   \n",
       "\n",
       "           SAMPLE_DATE_yyyy-Qq SAMPLE_TYPE_CODE MATRIX_CODE    ...      \\\n",
       "SAMPLEDATE                                                     ...       \n",
       "2010-02-05             2010-Q1                N          SW    ...       \n",
       "2010-02-05             2010-Q1                N          SW    ...       \n",
       "2010-02-05             2010-Q1                N          SW    ...       \n",
       "2010-02-05             2010-Q1                N          SW    ...       \n",
       "2010-02-05             2010-Q1                N          SW    ...       \n",
       "\n",
       "           REPORT_RESULT_VALUE REPORT_RESULT_UNIT REPORT_RESULT_LIMIT  \\\n",
       "SAMPLEDATE                                                              \n",
       "2010-02-05                53.0               ug/L                53.0   \n",
       "2010-02-05                 1.0               ug/L                 1.0   \n",
       "2010-02-05                 1.0               ug/L                 1.0   \n",
       "2010-02-05                 0.5               ug/L                 0.5   \n",
       "2010-02-05                 0.5               ug/L                 0.5   \n",
       "\n",
       "           REPORTABLE_RESULT DETECT_FLAG  LAB_QUALIFIERS  \\\n",
       "SAMPLEDATE                                                 \n",
       "2010-02-05                 Y           N               R   \n",
       "2010-02-05                 Y           N               R   \n",
       "2010-02-05                 Y           N               R   \n",
       "2010-02-05                 Y           N             NaN   \n",
       "2010-02-05                 Y           N             NaN   \n",
       "\n",
       "           REPORTING_DETECTION_LIMIT  DETECTION_LIMIT_UNIT  \\\n",
       "SAMPLEDATE                                                   \n",
       "2010-02-05                      53.0                  ug/L   \n",
       "2010-02-05                       1.0                  ug/L   \n",
       "2010-02-05                       1.0                  ug/L   \n",
       "2010-02-05                       0.5                  ug/L   \n",
       "2010-02-05                       0.5                  ug/L   \n",
       "\n",
       "           METHOD_ANALYTE_GROUP      jdate  \n",
       "SAMPLEDATE                                  \n",
       "2010-02-05       2019 CLF SVOCs  2455232.5  \n",
       "2010-02-05        2019 CLF VOCs  2455232.5  \n",
       "2010-02-05        2019 CLF VOCs  2455232.5  \n",
       "2010-02-05        2019 CLF VOCs  2455232.5  \n",
       "2010-02-05        2019 CLF VOCs  2455232.5  \n",
       "\n",
       "[5 rows x 25 columns]"
      ]
     },
     "execution_count": 18,
     "metadata": {},
     "output_type": "execute_result"
    }
   ],
   "source": [
    "#Check number of rows\n",
    "#CLF.shape\n",
    "CLF.head()"
   ]
  },
  {
   "cell_type": "markdown",
   "metadata": {},
   "source": [
    "I don't understand the format of jdate...but ok."
   ]
  },
  {
   "cell_type": "markdown",
   "metadata": {},
   "source": [
    "The subset appears to have been successful. The total dataframe has been reduced from 116 sampling locations to the required 46 and the total dataframe has been reduced from 141,645 rows to 77,872 rows. \n",
    "\n",
    "Next, the dataset can be further filtered based on the identified COCs. Even though each sampling is tested for over 100 parameters, the EPA is only interested in a certain 15 constituents. An object is created below containing the parameters as they appear in the original dataset. Note that not all of the parameters are needed for each sampling location."
   ]
  },
  {
   "cell_type": "code",
   "execution_count": 11,
   "metadata": {},
   "outputs": [
    {
     "data": {
      "text/plain": [
       "15"
      ]
     },
     "execution_count": 11,
     "metadata": {},
     "output_type": "execute_result"
    }
   ],
   "source": [
    "#Creation of EPA COC parameter list\n",
    "COC_Param = [\"1,1-Dichloroethane\", \"1,2-Dichlorobenzene\", \"1,4-Dichlorobenzene\", \"Arsenic\", \"Benzene\", \"Beryllium\", \"Chlorobenzene\", \"cis-1,2-Dichloroethene\", \"Iron\", \"Lead\", \"Manganese\", \"Nickel\", \"NITRATE/NITRITE AS N\", \"Trichloroethene (TCE)\", \"Vinyl chloride\"]\n",
    "len(COC_Param)"
   ]
  },
  {
   "cell_type": "code",
   "execution_count": 12,
   "metadata": {},
   "outputs": [
    {
     "data": {
      "text/plain": [
       "15"
      ]
     },
     "execution_count": 12,
     "metadata": {},
     "output_type": "execute_result"
    }
   ],
   "source": [
    "#COC_Param list is applied to the dataset to filter down constituents.\n",
    "CLF2 = CLF[CLF['CHEMICAL_NAME'].isin(COC_Param)]\n",
    "#check\n",
    "CLF2.CHEMICAL_NAME.nunique()"
   ]
  },
  {
   "cell_type": "code",
   "execution_count": 13,
   "metadata": {},
   "outputs": [
    {
     "data": {
      "text/plain": [
       "(13866, 25)"
      ]
     },
     "execution_count": 13,
     "metadata": {},
     "output_type": "execute_result"
    }
   ],
   "source": [
    "#check\n",
    "CLF2.shape"
   ]
  },
  {
   "cell_type": "code",
   "execution_count": 20,
   "metadata": {},
   "outputs": [
    {
     "name": "stderr",
     "output_type": "stream",
     "text": [
      "C:\\Users\\sarah.desimone\\AppData\\Local\\Continuum\\anaconda3\\lib\\site-packages\\ipykernel_launcher.py:2: UserWarning: Boolean Series key will be reindexed to match DataFrame index.\n",
      "  \n"
     ]
    },
    {
     "ename": "ValueError",
     "evalue": "cannot reindex from a duplicate axis",
     "output_type": "error",
     "traceback": [
      "\u001b[1;31m---------------------------------------------------------------------------\u001b[0m",
      "\u001b[1;31mValueError\u001b[0m                                Traceback (most recent call last)",
      "\u001b[1;32m<ipython-input-20-62409f970de9>\u001b[0m in \u001b[0;36m<module>\u001b[1;34m\u001b[0m\n\u001b[0;32m      1\u001b[0m \u001b[1;31m#Call one well location as object\u001b[0m\u001b[1;33m\u001b[0m\u001b[1;33m\u001b[0m\u001b[1;33m\u001b[0m\u001b[0m\n\u001b[1;32m----> 2\u001b[1;33m \u001b[0mmw03ml11\u001b[0m \u001b[1;33m=\u001b[0m \u001b[0mCLF2\u001b[0m\u001b[1;33m[\u001b[0m\u001b[0mCLF\u001b[0m\u001b[1;33m.\u001b[0m\u001b[0mSYS_LOC_CODE\u001b[0m\u001b[1;33m==\u001b[0m\u001b[1;34m'MW03ML11'\u001b[0m\u001b[1;33m]\u001b[0m\u001b[1;33m\u001b[0m\u001b[1;33m\u001b[0m\u001b[0m\n\u001b[0m\u001b[0;32m      3\u001b[0m \u001b[1;31m#Call one parameter as object\u001b[0m\u001b[1;33m\u001b[0m\u001b[1;33m\u001b[0m\u001b[1;33m\u001b[0m\u001b[0m\n\u001b[0;32m      4\u001b[0m \u001b[0mmw03ml11benz\u001b[0m \u001b[1;33m=\u001b[0m \u001b[0mmw03ml11\u001b[0m\u001b[1;33m[\u001b[0m\u001b[0mmw03ml11\u001b[0m\u001b[1;33m.\u001b[0m\u001b[0mCHEMICAL_NAME\u001b[0m\u001b[1;33m==\u001b[0m\u001b[1;34m'Benzene'\u001b[0m\u001b[1;33m]\u001b[0m\u001b[1;33m\u001b[0m\u001b[1;33m\u001b[0m\u001b[0m\n",
      "\u001b[1;32m~\\AppData\\Local\\Continuum\\anaconda3\\lib\\site-packages\\pandas\\core\\frame.py\u001b[0m in \u001b[0;36m__getitem__\u001b[1;34m(self, key)\u001b[0m\n\u001b[0;32m   2680\u001b[0m         \u001b[1;32mif\u001b[0m \u001b[0misinstance\u001b[0m\u001b[1;33m(\u001b[0m\u001b[0mkey\u001b[0m\u001b[1;33m,\u001b[0m \u001b[1;33m(\u001b[0m\u001b[0mSeries\u001b[0m\u001b[1;33m,\u001b[0m \u001b[0mnp\u001b[0m\u001b[1;33m.\u001b[0m\u001b[0mndarray\u001b[0m\u001b[1;33m,\u001b[0m \u001b[0mIndex\u001b[0m\u001b[1;33m,\u001b[0m \u001b[0mlist\u001b[0m\u001b[1;33m)\u001b[0m\u001b[1;33m)\u001b[0m\u001b[1;33m:\u001b[0m\u001b[1;33m\u001b[0m\u001b[1;33m\u001b[0m\u001b[0m\n\u001b[0;32m   2681\u001b[0m             \u001b[1;31m# either boolean or fancy integer index\u001b[0m\u001b[1;33m\u001b[0m\u001b[1;33m\u001b[0m\u001b[1;33m\u001b[0m\u001b[0m\n\u001b[1;32m-> 2682\u001b[1;33m             \u001b[1;32mreturn\u001b[0m \u001b[0mself\u001b[0m\u001b[1;33m.\u001b[0m\u001b[0m_getitem_array\u001b[0m\u001b[1;33m(\u001b[0m\u001b[0mkey\u001b[0m\u001b[1;33m)\u001b[0m\u001b[1;33m\u001b[0m\u001b[1;33m\u001b[0m\u001b[0m\n\u001b[0m\u001b[0;32m   2683\u001b[0m         \u001b[1;32melif\u001b[0m \u001b[0misinstance\u001b[0m\u001b[1;33m(\u001b[0m\u001b[0mkey\u001b[0m\u001b[1;33m,\u001b[0m \u001b[0mDataFrame\u001b[0m\u001b[1;33m)\u001b[0m\u001b[1;33m:\u001b[0m\u001b[1;33m\u001b[0m\u001b[1;33m\u001b[0m\u001b[0m\n\u001b[0;32m   2684\u001b[0m             \u001b[1;32mreturn\u001b[0m \u001b[0mself\u001b[0m\u001b[1;33m.\u001b[0m\u001b[0m_getitem_frame\u001b[0m\u001b[1;33m(\u001b[0m\u001b[0mkey\u001b[0m\u001b[1;33m)\u001b[0m\u001b[1;33m\u001b[0m\u001b[1;33m\u001b[0m\u001b[0m\n",
      "\u001b[1;32m~\\AppData\\Local\\Continuum\\anaconda3\\lib\\site-packages\\pandas\\core\\frame.py\u001b[0m in \u001b[0;36m_getitem_array\u001b[1;34m(self, key)\u001b[0m\n\u001b[0;32m   2720\u001b[0m             \u001b[1;31m# check_bool_indexer will throw exception if Series key cannot\u001b[0m\u001b[1;33m\u001b[0m\u001b[1;33m\u001b[0m\u001b[1;33m\u001b[0m\u001b[0m\n\u001b[0;32m   2721\u001b[0m             \u001b[1;31m# be reindexed to match DataFrame rows\u001b[0m\u001b[1;33m\u001b[0m\u001b[1;33m\u001b[0m\u001b[1;33m\u001b[0m\u001b[0m\n\u001b[1;32m-> 2722\u001b[1;33m             \u001b[0mkey\u001b[0m \u001b[1;33m=\u001b[0m \u001b[0mcheck_bool_indexer\u001b[0m\u001b[1;33m(\u001b[0m\u001b[0mself\u001b[0m\u001b[1;33m.\u001b[0m\u001b[0mindex\u001b[0m\u001b[1;33m,\u001b[0m \u001b[0mkey\u001b[0m\u001b[1;33m)\u001b[0m\u001b[1;33m\u001b[0m\u001b[1;33m\u001b[0m\u001b[0m\n\u001b[0m\u001b[0;32m   2723\u001b[0m             \u001b[0mindexer\u001b[0m \u001b[1;33m=\u001b[0m \u001b[0mkey\u001b[0m\u001b[1;33m.\u001b[0m\u001b[0mnonzero\u001b[0m\u001b[1;33m(\u001b[0m\u001b[1;33m)\u001b[0m\u001b[1;33m[\u001b[0m\u001b[1;36m0\u001b[0m\u001b[1;33m]\u001b[0m\u001b[1;33m\u001b[0m\u001b[1;33m\u001b[0m\u001b[0m\n\u001b[0;32m   2724\u001b[0m             \u001b[1;32mreturn\u001b[0m \u001b[0mself\u001b[0m\u001b[1;33m.\u001b[0m\u001b[0m_take\u001b[0m\u001b[1;33m(\u001b[0m\u001b[0mindexer\u001b[0m\u001b[1;33m,\u001b[0m \u001b[0maxis\u001b[0m\u001b[1;33m=\u001b[0m\u001b[1;36m0\u001b[0m\u001b[1;33m)\u001b[0m\u001b[1;33m\u001b[0m\u001b[1;33m\u001b[0m\u001b[0m\n",
      "\u001b[1;32m~\\AppData\\Local\\Continuum\\anaconda3\\lib\\site-packages\\pandas\\core\\indexing.py\u001b[0m in \u001b[0;36mcheck_bool_indexer\u001b[1;34m(ax, key)\u001b[0m\n\u001b[0;32m   2351\u001b[0m     \u001b[0mresult\u001b[0m \u001b[1;33m=\u001b[0m \u001b[0mkey\u001b[0m\u001b[1;33m\u001b[0m\u001b[1;33m\u001b[0m\u001b[0m\n\u001b[0;32m   2352\u001b[0m     \u001b[1;32mif\u001b[0m \u001b[0misinstance\u001b[0m\u001b[1;33m(\u001b[0m\u001b[0mkey\u001b[0m\u001b[1;33m,\u001b[0m \u001b[0mABCSeries\u001b[0m\u001b[1;33m)\u001b[0m \u001b[1;32mand\u001b[0m \u001b[1;32mnot\u001b[0m \u001b[0mkey\u001b[0m\u001b[1;33m.\u001b[0m\u001b[0mindex\u001b[0m\u001b[1;33m.\u001b[0m\u001b[0mequals\u001b[0m\u001b[1;33m(\u001b[0m\u001b[0max\u001b[0m\u001b[1;33m)\u001b[0m\u001b[1;33m:\u001b[0m\u001b[1;33m\u001b[0m\u001b[1;33m\u001b[0m\u001b[0m\n\u001b[1;32m-> 2353\u001b[1;33m         \u001b[0mresult\u001b[0m \u001b[1;33m=\u001b[0m \u001b[0mresult\u001b[0m\u001b[1;33m.\u001b[0m\u001b[0mreindex\u001b[0m\u001b[1;33m(\u001b[0m\u001b[0max\u001b[0m\u001b[1;33m)\u001b[0m\u001b[1;33m\u001b[0m\u001b[1;33m\u001b[0m\u001b[0m\n\u001b[0m\u001b[0;32m   2354\u001b[0m         \u001b[0mmask\u001b[0m \u001b[1;33m=\u001b[0m \u001b[0misna\u001b[0m\u001b[1;33m(\u001b[0m\u001b[0mresult\u001b[0m\u001b[1;33m.\u001b[0m\u001b[0m_values\u001b[0m\u001b[1;33m)\u001b[0m\u001b[1;33m\u001b[0m\u001b[1;33m\u001b[0m\u001b[0m\n\u001b[0;32m   2355\u001b[0m         \u001b[1;32mif\u001b[0m \u001b[0mmask\u001b[0m\u001b[1;33m.\u001b[0m\u001b[0many\u001b[0m\u001b[1;33m(\u001b[0m\u001b[1;33m)\u001b[0m\u001b[1;33m:\u001b[0m\u001b[1;33m\u001b[0m\u001b[1;33m\u001b[0m\u001b[0m\n",
      "\u001b[1;32m~\\AppData\\Local\\Continuum\\anaconda3\\lib\\site-packages\\pandas\\core\\series.py\u001b[0m in \u001b[0;36mreindex\u001b[1;34m(self, index, **kwargs)\u001b[0m\n\u001b[0;32m   3323\u001b[0m     \u001b[1;33m@\u001b[0m\u001b[0mAppender\u001b[0m\u001b[1;33m(\u001b[0m\u001b[0mgeneric\u001b[0m\u001b[1;33m.\u001b[0m\u001b[0m_shared_docs\u001b[0m\u001b[1;33m[\u001b[0m\u001b[1;34m'reindex'\u001b[0m\u001b[1;33m]\u001b[0m \u001b[1;33m%\u001b[0m \u001b[0m_shared_doc_kwargs\u001b[0m\u001b[1;33m)\u001b[0m\u001b[1;33m\u001b[0m\u001b[1;33m\u001b[0m\u001b[0m\n\u001b[0;32m   3324\u001b[0m     \u001b[1;32mdef\u001b[0m \u001b[0mreindex\u001b[0m\u001b[1;33m(\u001b[0m\u001b[0mself\u001b[0m\u001b[1;33m,\u001b[0m \u001b[0mindex\u001b[0m\u001b[1;33m=\u001b[0m\u001b[1;32mNone\u001b[0m\u001b[1;33m,\u001b[0m \u001b[1;33m**\u001b[0m\u001b[0mkwargs\u001b[0m\u001b[1;33m)\u001b[0m\u001b[1;33m:\u001b[0m\u001b[1;33m\u001b[0m\u001b[1;33m\u001b[0m\u001b[0m\n\u001b[1;32m-> 3325\u001b[1;33m         \u001b[1;32mreturn\u001b[0m \u001b[0msuper\u001b[0m\u001b[1;33m(\u001b[0m\u001b[0mSeries\u001b[0m\u001b[1;33m,\u001b[0m \u001b[0mself\u001b[0m\u001b[1;33m)\u001b[0m\u001b[1;33m.\u001b[0m\u001b[0mreindex\u001b[0m\u001b[1;33m(\u001b[0m\u001b[0mindex\u001b[0m\u001b[1;33m=\u001b[0m\u001b[0mindex\u001b[0m\u001b[1;33m,\u001b[0m \u001b[1;33m**\u001b[0m\u001b[0mkwargs\u001b[0m\u001b[1;33m)\u001b[0m\u001b[1;33m\u001b[0m\u001b[1;33m\u001b[0m\u001b[0m\n\u001b[0m\u001b[0;32m   3326\u001b[0m \u001b[1;33m\u001b[0m\u001b[0m\n\u001b[0;32m   3327\u001b[0m     def drop(self, labels=None, axis=0, index=None, columns=None,\n",
      "\u001b[1;32m~\\AppData\\Local\\Continuum\\anaconda3\\lib\\site-packages\\pandas\\core\\generic.py\u001b[0m in \u001b[0;36mreindex\u001b[1;34m(self, *args, **kwargs)\u001b[0m\n\u001b[0;32m   3687\u001b[0m         \u001b[1;31m# perform the reindex on the axes\u001b[0m\u001b[1;33m\u001b[0m\u001b[1;33m\u001b[0m\u001b[1;33m\u001b[0m\u001b[0m\n\u001b[0;32m   3688\u001b[0m         return self._reindex_axes(axes, level, limit, tolerance, method,\n\u001b[1;32m-> 3689\u001b[1;33m                                   fill_value, copy).__finalize__(self)\n\u001b[0m\u001b[0;32m   3690\u001b[0m \u001b[1;33m\u001b[0m\u001b[0m\n\u001b[0;32m   3691\u001b[0m     def _reindex_axes(self, axes, level, limit, tolerance, method, fill_value,\n",
      "\u001b[1;32m~\\AppData\\Local\\Continuum\\anaconda3\\lib\\site-packages\\pandas\\core\\generic.py\u001b[0m in \u001b[0;36m_reindex_axes\u001b[1;34m(self, axes, level, limit, tolerance, method, fill_value, copy)\u001b[0m\n\u001b[0;32m   3705\u001b[0m             obj = obj._reindex_with_indexers({axis: [new_index, indexer]},\n\u001b[0;32m   3706\u001b[0m                                              \u001b[0mfill_value\u001b[0m\u001b[1;33m=\u001b[0m\u001b[0mfill_value\u001b[0m\u001b[1;33m,\u001b[0m\u001b[1;33m\u001b[0m\u001b[1;33m\u001b[0m\u001b[0m\n\u001b[1;32m-> 3707\u001b[1;33m                                              copy=copy, allow_dups=False)\n\u001b[0m\u001b[0;32m   3708\u001b[0m \u001b[1;33m\u001b[0m\u001b[0m\n\u001b[0;32m   3709\u001b[0m         \u001b[1;32mreturn\u001b[0m \u001b[0mobj\u001b[0m\u001b[1;33m\u001b[0m\u001b[1;33m\u001b[0m\u001b[0m\n",
      "\u001b[1;32m~\\AppData\\Local\\Continuum\\anaconda3\\lib\\site-packages\\pandas\\core\\generic.py\u001b[0m in \u001b[0;36m_reindex_with_indexers\u001b[1;34m(self, reindexers, fill_value, copy, allow_dups)\u001b[0m\n\u001b[0;32m   3808\u001b[0m                                                 \u001b[0mfill_value\u001b[0m\u001b[1;33m=\u001b[0m\u001b[0mfill_value\u001b[0m\u001b[1;33m,\u001b[0m\u001b[1;33m\u001b[0m\u001b[1;33m\u001b[0m\u001b[0m\n\u001b[0;32m   3809\u001b[0m                                                 \u001b[0mallow_dups\u001b[0m\u001b[1;33m=\u001b[0m\u001b[0mallow_dups\u001b[0m\u001b[1;33m,\u001b[0m\u001b[1;33m\u001b[0m\u001b[1;33m\u001b[0m\u001b[0m\n\u001b[1;32m-> 3810\u001b[1;33m                                                 copy=copy)\n\u001b[0m\u001b[0;32m   3811\u001b[0m \u001b[1;33m\u001b[0m\u001b[0m\n\u001b[0;32m   3812\u001b[0m         \u001b[1;32mif\u001b[0m \u001b[0mcopy\u001b[0m \u001b[1;32mand\u001b[0m \u001b[0mnew_data\u001b[0m \u001b[1;32mis\u001b[0m \u001b[0mself\u001b[0m\u001b[1;33m.\u001b[0m\u001b[0m_data\u001b[0m\u001b[1;33m:\u001b[0m\u001b[1;33m\u001b[0m\u001b[1;33m\u001b[0m\u001b[0m\n",
      "\u001b[1;32m~\\AppData\\Local\\Continuum\\anaconda3\\lib\\site-packages\\pandas\\core\\internals.py\u001b[0m in \u001b[0;36mreindex_indexer\u001b[1;34m(self, new_axis, indexer, axis, fill_value, allow_dups, copy)\u001b[0m\n\u001b[0;32m   4412\u001b[0m         \u001b[1;31m# some axes don't allow reindexing with dups\u001b[0m\u001b[1;33m\u001b[0m\u001b[1;33m\u001b[0m\u001b[1;33m\u001b[0m\u001b[0m\n\u001b[0;32m   4413\u001b[0m         \u001b[1;32mif\u001b[0m \u001b[1;32mnot\u001b[0m \u001b[0mallow_dups\u001b[0m\u001b[1;33m:\u001b[0m\u001b[1;33m\u001b[0m\u001b[1;33m\u001b[0m\u001b[0m\n\u001b[1;32m-> 4414\u001b[1;33m             \u001b[0mself\u001b[0m\u001b[1;33m.\u001b[0m\u001b[0maxes\u001b[0m\u001b[1;33m[\u001b[0m\u001b[0maxis\u001b[0m\u001b[1;33m]\u001b[0m\u001b[1;33m.\u001b[0m\u001b[0m_can_reindex\u001b[0m\u001b[1;33m(\u001b[0m\u001b[0mindexer\u001b[0m\u001b[1;33m)\u001b[0m\u001b[1;33m\u001b[0m\u001b[1;33m\u001b[0m\u001b[0m\n\u001b[0m\u001b[0;32m   4415\u001b[0m \u001b[1;33m\u001b[0m\u001b[0m\n\u001b[0;32m   4416\u001b[0m         \u001b[1;32mif\u001b[0m \u001b[0maxis\u001b[0m \u001b[1;33m>=\u001b[0m \u001b[0mself\u001b[0m\u001b[1;33m.\u001b[0m\u001b[0mndim\u001b[0m\u001b[1;33m:\u001b[0m\u001b[1;33m\u001b[0m\u001b[1;33m\u001b[0m\u001b[0m\n",
      "\u001b[1;32m~\\AppData\\Local\\Continuum\\anaconda3\\lib\\site-packages\\pandas\\core\\indexes\\base.py\u001b[0m in \u001b[0;36m_can_reindex\u001b[1;34m(self, indexer)\u001b[0m\n\u001b[0;32m   3574\u001b[0m         \u001b[1;31m# trying to reindex on an axis with duplicates\u001b[0m\u001b[1;33m\u001b[0m\u001b[1;33m\u001b[0m\u001b[1;33m\u001b[0m\u001b[0m\n\u001b[0;32m   3575\u001b[0m         \u001b[1;32mif\u001b[0m \u001b[1;32mnot\u001b[0m \u001b[0mself\u001b[0m\u001b[1;33m.\u001b[0m\u001b[0mis_unique\u001b[0m \u001b[1;32mand\u001b[0m \u001b[0mlen\u001b[0m\u001b[1;33m(\u001b[0m\u001b[0mindexer\u001b[0m\u001b[1;33m)\u001b[0m\u001b[1;33m:\u001b[0m\u001b[1;33m\u001b[0m\u001b[1;33m\u001b[0m\u001b[0m\n\u001b[1;32m-> 3576\u001b[1;33m             \u001b[1;32mraise\u001b[0m \u001b[0mValueError\u001b[0m\u001b[1;33m(\u001b[0m\u001b[1;34m\"cannot reindex from a duplicate axis\"\u001b[0m\u001b[1;33m)\u001b[0m\u001b[1;33m\u001b[0m\u001b[1;33m\u001b[0m\u001b[0m\n\u001b[0m\u001b[0;32m   3577\u001b[0m \u001b[1;33m\u001b[0m\u001b[0m\n\u001b[0;32m   3578\u001b[0m     def reindex(self, target, method=None, level=None, limit=None,\n",
      "\u001b[1;31mValueError\u001b[0m: cannot reindex from a duplicate axis"
     ]
    }
   ],
   "source": [
    "#Call one well location as object\n",
    "mw03ml11 = CLF2[CLF.SYS_LOC_CODE=='MW03ML11']\n",
    "#Call one parameter as object\n",
    "mw03ml11benz = mw03ml11[mw03ml11.CHEMICAL_NAME=='Benzene']"
   ]
  },
  {
   "cell_type": "markdown",
   "metadata": {},
   "source": [
    "I get that the column has duplicate values...it does. I don't know why that matters."
   ]
  },
  {
   "cell_type": "code",
   "execution_count": null,
   "metadata": {
    "scrolled": true
   },
   "outputs": [],
   "source": [
    "import seaborn as sns\n",
    "import seaborn as sns\n",
    "sns.set()\n",
    "#sns.lineplot('sampledate', 'REPORT_RESULT_VALUE', data=mw03ml11benz)\n",
    "sns.lineplot('jdate', 'REPORT_RESULT_VALUE', data=mw03ml11benz)\n",
    "plt.show()"
   ]
  },
  {
   "cell_type": "code",
   "execution_count": null,
   "metadata": {},
   "outputs": [],
   "source": [
    "#Regression Model\n",
    "recent=MW03ML11henz[MW03ML11benz.index>'2013-01-01']\n",
    "import statsmodels.api as sm\n",
    "import scipy.states as stats\n",
    "\n",
    "y=recent.REPORT_RESULT_VALUE\n",
    "x=sm.add_contant(recent.index.to_julian_date())\n",
    "\n",
    "lm = sm.OLS(y,x).fit()\n",
    "lm.summary()\n",
    "\n",
    "lm.params['x1']\n",
    "lm.pvalues"
   ]
  },
  {
   "cell_type": "markdown",
   "metadata": {},
   "source": [
    "Section 5. List three questions that can be answered using the data. For each question, provide at least one visualization, and explanation of the question, and a relevant table/summarystatistic/output of a statistical model.\n",
    "\n",
    "The three questions are as follows:\n",
    "1. Was the code successful in recreating plots similar to the propriatary \"black box\" code?\n",
    "2. Based on the identified COCs by the EPA at certain sampling locations, which locations are trending downward (i.e. which locations are being successfully remediated?)\n",
    "3. Are there any locations that have significant increasing or decreasing trends based on the last five years of data, which may indicated extreme subsurface conditions or contaminant source locations."
   ]
  },
  {
   "cell_type": "markdown",
   "metadata": {},
   "source": [
    "The code was not successful in recreating plots. If the code was successful, it would have shown 11 locations identified with Significantly Decreasing Trends and 23 locations with Significantly Increasing Trends. Twenty-seven locations would indicate a general Decreasing Trend and 21 with a general, but not Significant Increasing Trend. "
   ]
  },
  {
   "cell_type": "markdown",
   "metadata": {},
   "source": [
    "The Significantly Increasing Trend locations would indicate where contaminants are actively moving in the subsurface and where the next target remediation should occur. Further analysis could include cross referencing locations were previous remediation activities occured to correlate the effectiveness of remedial activities. \n"
   ]
  }
 ],
 "metadata": {
  "kernelspec": {
   "display_name": "Python 3",
   "language": "python",
   "name": "python3"
  },
  "language_info": {
   "codemirror_mode": {
    "name": "ipython",
    "version": 3
   },
   "file_extension": ".py",
   "mimetype": "text/x-python",
   "name": "python",
   "nbconvert_exporter": "python",
   "pygments_lexer": "ipython3",
   "version": "3.7.1"
  }
 },
 "nbformat": 4,
 "nbformat_minor": 2
}

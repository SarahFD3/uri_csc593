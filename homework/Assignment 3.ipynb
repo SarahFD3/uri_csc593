{
 "cells": [
  {
   "cell_type": "markdown",
   "metadata": {},
   "source": [
    "# Assignment 3\n",
    "\n",
    "*(Due Saturday, October 5, 2019 at noon.)*"
   ]
  },
  {
   "cell_type": "markdown",
   "metadata": {},
   "source": [
    "I was not successful in completing the homework. "
   ]
  },
  {
   "cell_type": "code",
   "execution_count": 1,
   "metadata": {},
   "outputs": [],
   "source": [
    "xml = \"\"\"\n",
    "<data>\n",
    "    <citation><author> T. Fahringer, R. Blasko, and H. Zima. </author> <title> Automatic performance prediction to support parallelization of Fortran programs for massively parallel systems. </title> <booktitle> In Proceedings of the 1992 ACM International Conference on Supercomputing, </booktitle> <location> Washington, DC, </location> <date> July 1992. </date></citation>\n",
    "    <citation><author> A. D. Kallis and D. Klappholz, </author> <title> ``Reaching definitions analysis on code containing array references,'' </title> <booktitle> Conf. Rec. of the 4th Workshop on Languages and Compilers for Parallel Computing, </booktitle> <date> Aug. 1991. </date></citation>\n",
    "    <citation><author> R. Fletcher. </author> <title> Practical Methods of Optimization. </title> <publisher> John Wiley &amp; Sons, </publisher> <date> 1987. </date></citation>\n",
    "    <citation><author> Clark, K. L., </author> <title> Negation as Failure, </title> <editor> in: H. Gallaire and J. Minker (eds.), </editor> <booktitle> Logic and Data Bases, </booktitle> <publisher> Plenum Press, </publisher> <location> New York, </location> <date> 1978. </date></citation>\n",
    "    <citation><author> Gent, I. P., &amp; Walsh, T. </author> <date> (1994a). </date> <title> Easy problems are sometimes hard. </title> <journal> Artificial Intelligence, </journal> <volume> 70, </volume> <pages> 335-345. </pages></citation>\n",
    "</data>\n",
    "\"\"\""
   ]
  },
  {
   "cell_type": "markdown",
   "metadata": {},
   "source": [
    "### Task\n",
    "\n",
    "Copy your `Citation` class here from your class notes, then:\n",
    "\n",
    "1. Write a function that takes the XML above and outputs a list of `Citation` objects containing the data from the XML. \n",
    "2. Run the function, loop over the `Citation`s, and prints the output of each one's `complete()` method."
   ]
  },
  {
   "cell_type": "code",
   "execution_count": 2,
   "metadata": {},
   "outputs": [
    {
     "name": "stdout",
     "output_type": "stream",
     "text": [
      " T. Fahringer, R. Blasko, and H. Zima. \n",
      " A. D. Kallis and D. Klappholz, \n",
      " R. Fletcher. \n",
      " Clark, K. L., \n",
      " Gent, I. P., & Walsh, T. \n"
     ]
    }
   ],
   "source": [
    "#import etree module\n",
    "import xml.etree.ElementTree as ET\n",
    "\n",
    "#load our strings with xml parcer and calling it 'root'\n",
    "root = ET.fromstring(xml)\n",
    "#looping through each citation in the xml and printing the text inside of author\n",
    "for citation in root:\n",
    "    print(citation.find('author').text)"
   ]
  },
  {
   "cell_type": "code",
   "execution_count": 12,
   "metadata": {},
   "outputs": [
    {
     "name": "stdout",
     "output_type": "stream",
     "text": [
      " T. Fahringer, R. Blasko, and H. Zima.  Automatic performance prediction to support parallelization of Fortran programs for massively parallel systems. \n",
      " A. D. Kallis and D. Klappholz,  ``Reaching definitions analysis on code containing array references,'' \n",
      " R. Fletcher.  Practical Methods of Optimization. \n",
      " Clark, K. L.,  Negation as Failure, \n",
      " Gent, I. P., & Walsh, T.  Easy problems are sometimes hard.  Artificial Intelligence,  70, \n"
     ]
    }
   ],
   "source": [
    "for citation in root:\n",
    "    out = citation.find('author').text\n",
    "    title= citation.find('title')\n",
    "    \n",
    "    if title != None:\n",
    "        out+=title.text\n",
    "    \n",
    "    journal= citation.find('journal')\n",
    "    \n",
    "    if journal != None:\n",
    "        out+=journal.text\n",
    "    \n",
    "    volume= citation.find('volume')\n",
    "    \n",
    "    if volume != None:\n",
    "        out+=volume.text\n",
    "    \n",
    "    number= citation.find('number')\n",
    "    \n",
    "    if number != None:\n",
    "        out+=number.text\n",
    "    \n",
    "    book_title= citation.find('book_title')\n",
    "    \n",
    "    if book_title != None:\n",
    "        out+=book_title.text\n",
    "    \n",
    "    print(out)"
   ]
  },
  {
   "cell_type": "markdown",
   "metadata": {},
   "source": [
    "Below based on for loop. \n",
    "cannot find explaination for error message."
   ]
  },
  {
   "cell_type": "code",
   "execution_count": 18,
   "metadata": {},
   "outputs": [
    {
     "name": "stdout",
     "output_type": "stream",
     "text": [
      " Gent, I. P., & Walsh, T.  Easy problems are sometimes hard.  Artificial Intelligence,  70, \n"
     ]
    },
    {
     "data": {
      "text/plain": [
       "<__main__.Citation2 at 0x138d54bf518>"
      ]
     },
     "execution_count": 18,
     "metadata": {},
     "output_type": "execute_result"
    }
   ],
   "source": [
    "class Citation2:\n",
    "    #these are methods - they are part of a class\n",
    "    # two underscores mean it's special. The init is run automatically when you run an object of this class Citation\n",
    "    def __init__(self, details):\n",
    "        for citation in root:\n",
    "            out = citation.find('author').text\n",
    "        title= citation.find('title')\n",
    "    \n",
    "        if title != None:\n",
    "            out+=title.text\n",
    "    \n",
    "        journal= citation.find('journal')\n",
    "    \n",
    "        if journal != None:\n",
    "            out+=journal.text\n",
    "    \n",
    "        volume= citation.find('volume')\n",
    "    \n",
    "        if volume != None:\n",
    "            out+=volume.text\n",
    "    \n",
    "        number= citation.find('number')\n",
    "    \n",
    "        if number != None:\n",
    "            out+=number.text\n",
    "    \n",
    "        book_title= citation.find('book_title')\n",
    "    \n",
    "        if book_title != None:\n",
    "            out+=book_title.text\n",
    "    \n",
    "        print(out)\n",
    "    \n",
    "Citation2(root)"
   ]
  },
  {
   "cell_type": "code",
   "execution_count": 20,
   "metadata": {},
   "outputs": [
    {
     "ename": "TypeError",
     "evalue": "element indices must be integers",
     "output_type": "error",
     "traceback": [
      "\u001b[1;31m---------------------------------------------------------------------------\u001b[0m",
      "\u001b[1;31mTypeError\u001b[0m                                 Traceback (most recent call last)",
      "\u001b[1;32m<ipython-input-20-6d2de7a30ac5>\u001b[0m in \u001b[0;36m<module>\u001b[1;34m\u001b[0m\n\u001b[0;32m     40\u001b[0m         \u001b[0mprint\u001b[0m\u001b[1;33m(\u001b[0m\u001b[0moutput\u001b[0m\u001b[1;33m)\u001b[0m\u001b[1;33m\u001b[0m\u001b[1;33m\u001b[0m\u001b[0m\n\u001b[0;32m     41\u001b[0m \u001b[1;33m\u001b[0m\u001b[0m\n\u001b[1;32m---> 42\u001b[1;33m \u001b[0mc\u001b[0m \u001b[1;33m=\u001b[0m \u001b[0mCitation\u001b[0m\u001b[1;33m(\u001b[0m\u001b[0mroot\u001b[0m\u001b[1;33m[\u001b[0m\u001b[1;36m1\u001b[0m\u001b[1;33m]\u001b[0m\u001b[1;33m)\u001b[0m\u001b[1;33m\u001b[0m\u001b[1;33m\u001b[0m\u001b[0m\n\u001b[0m\u001b[0;32m     43\u001b[0m \u001b[0mc\u001b[0m\u001b[1;33m.\u001b[0m\u001b[0mcomplete\u001b[0m\u001b[1;33m(\u001b[0m\u001b[1;33m)\u001b[0m\u001b[1;33m\u001b[0m\u001b[1;33m\u001b[0m\u001b[0m\n",
      "\u001b[1;32m<ipython-input-20-6d2de7a30ac5>\u001b[0m in \u001b[0;36m__init__\u001b[1;34m(self, details)\u001b[0m\n\u001b[0;32m      3\u001b[0m     \u001b[1;31m# two underscores mean it's special. The init is run automatically when you run an object of this class Citation\u001b[0m\u001b[1;33m\u001b[0m\u001b[1;33m\u001b[0m\u001b[1;33m\u001b[0m\u001b[0m\n\u001b[0;32m      4\u001b[0m     \u001b[1;32mdef\u001b[0m \u001b[0m__init__\u001b[0m\u001b[1;33m(\u001b[0m\u001b[0mself\u001b[0m\u001b[1;33m,\u001b[0m \u001b[0mdetails\u001b[0m\u001b[1;33m)\u001b[0m\u001b[1;33m:\u001b[0m\u001b[1;33m\u001b[0m\u001b[1;33m\u001b[0m\u001b[0m\n\u001b[1;32m----> 5\u001b[1;33m         \u001b[0mself\u001b[0m\u001b[1;33m.\u001b[0m\u001b[0mauthor\u001b[0m \u001b[1;33m=\u001b[0m \u001b[0mdetails\u001b[0m\u001b[1;33m[\u001b[0m\u001b[1;34m'author'\u001b[0m\u001b[1;33m]\u001b[0m\u001b[1;33m\u001b[0m\u001b[1;33m\u001b[0m\u001b[0m\n\u001b[0m\u001b[0;32m      6\u001b[0m         \u001b[0mself\u001b[0m\u001b[1;33m.\u001b[0m\u001b[0mtitle\u001b[0m \u001b[1;33m=\u001b[0m \u001b[0mdetails\u001b[0m\u001b[1;33m[\u001b[0m\u001b[1;34m'title'\u001b[0m\u001b[1;33m]\u001b[0m\u001b[1;33m\u001b[0m\u001b[1;33m\u001b[0m\u001b[0m\n\u001b[0;32m      7\u001b[0m         \u001b[0mself\u001b[0m\u001b[1;33m.\u001b[0m\u001b[0mjournal\u001b[0m \u001b[1;33m=\u001b[0m \u001b[0mdetails\u001b[0m\u001b[1;33m[\u001b[0m\u001b[1;34m'journal'\u001b[0m\u001b[1;33m]\u001b[0m\u001b[1;33m\u001b[0m\u001b[1;33m\u001b[0m\u001b[0m\n",
      "\u001b[1;31mTypeError\u001b[0m: element indices must be integers"
     ]
    }
   ],
   "source": [
    "class Citation:\n",
    "    #these are methods - they are part of a class\n",
    "    # two underscores mean it's special. The init is run automatically when you run an object of this class Citation\n",
    "    def __init__(self, details):\n",
    "        self.author = details['author']\n",
    "        self.title = details['title']\n",
    "        self.journal = details['journal']\n",
    "        if 'journal' in details:\n",
    "            self.journal = details['journal']\n",
    "        else:\n",
    "            self.journal = None\n",
    "        self.volume = details['volume']\n",
    "        if 'volume' in details:\n",
    "            self.volume = details['volume']\n",
    "        else:\n",
    "            self.volume = None\n",
    "        self.number = details['number']\n",
    "        if 'number' in details: \n",
    "            self.number = details['number']\n",
    "        else:\n",
    "            self.number = None\n",
    "        self.book_title = details['book_title']\n",
    "        self.date = details['date']\n",
    "        \n",
    "    def names(self):\n",
    "        return self.author.split(',')\n",
    "    \n",
    "    def complete(self):\n",
    "        output = self.author + self.title\n",
    "        if self.journal:\n",
    "            output = output + self.journal\n",
    "        if self.volume:\n",
    "            output += output + self.volume\n",
    "        if self.number:\n",
    "            output += output + self.number\n",
    "        if self.book_title:\n",
    "            output += output + self.book.title\n",
    "        if self.date:\n",
    "            output += output + self.date\n",
    "        print(output)\n",
    "\n",
    "c = Citation(root[1])\n",
    "c.complete()"
   ]
  },
  {
   "cell_type": "code",
   "execution_count": null,
   "metadata": {},
   "outputs": [],
   "source": [
    "def complete(root):\n",
    "    output = self.author + self.title\n",
    "    if self.journal:\n",
    "        output = output + self.journal\n",
    "    if self.volume:\n",
    "        output += output + self.volume\n",
    "    if self.number:\n",
    "        output += output + self.number\n",
    "    if self.book_title:\n",
    "            output += output + self.book.title\n",
    "    if self.date:\n",
    "            output += output + self.date\n",
    "    print(output)\n"
   ]
  },
  {
   "cell_type": "markdown",
   "metadata": {},
   "source": [
    "#### Submitting\n",
    "\n",
    "In the Terminal (Mac) or Git Bash (Windows):\n",
    "\n",
    "`git commit -a -m 'Assignment 3 completed'`  \n",
    "`git push`"
   ]
  },
  {
   "cell_type": "markdown",
   "metadata": {},
   "source": [
    "### Reading for next week\n",
    "\n",
    "Read these sections on learnpython.org...  \n",
    "1. [List Comprehensions](https://www.learnpython.org/en/List_Comprehensions)\n",
    "2. [Multiple Function Arguments](https://www.learnpython.org/en/Multiple_Function_Arguments)\n",
    "\n",
    "Or these sections of The Python Tutorial.\n",
    "1. [5.1.3 and 5.1.4](https://docs.python.org/3/tutorial/datastructures.html#list-comprehensions)\n",
    "1. [4.7](https://docs.python.org/3/tutorial/controlflow.html#more-on-defining-functions)"
   ]
  }
 ],
 "metadata": {
  "kernelspec": {
   "display_name": "Python 3",
   "language": "python",
   "name": "python3"
  },
  "language_info": {
   "codemirror_mode": {
    "name": "ipython",
    "version": 3
   },
   "file_extension": ".py",
   "mimetype": "text/x-python",
   "name": "python",
   "nbconvert_exporter": "python",
   "pygments_lexer": "ipython3",
   "version": "3.7.1"
  }
 },
 "nbformat": 4,
 "nbformat_minor": 2
}

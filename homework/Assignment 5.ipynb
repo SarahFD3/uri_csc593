{
 "cells": [
  {
   "cell_type": "markdown",
   "metadata": {},
   "source": [
    "# Assignment 5\n",
    "\n",
    "*(Due Saturday, October 19, 2019 at noon.)*"
   ]
  },
  {
   "cell_type": "markdown",
   "metadata": {},
   "source": [
    "1) Describe steps needed to clean your dataset. Are there badly-formatted or missing values that will need to be handled? Are you working with multiple files that need to be merged? Do you need to create any new derived fields? Describe the steps you expect to take to clean your data and prepare it for analysis."
   ]
  },
  {
   "cell_type": "markdown",
   "metadata": {},
   "source": []
  },
  {
   "cell_type": "markdown",
   "metadata": {},
   "source": [
    "The data consists of one excel file with 141,646 rows and 25 columns of data. There are no missing values per se, but if the data is subset by analytical group, some sampling locations were not tested for certain parameters as the sampling program changed over the length of the dataset (10 years). I dont' believe I need to create any additional derived fields unless I do certain statistical analyses that require intermediary steps. Cleaning the data will possibly involve creating subgroups for easier analysis. For instance, Groundwater (GW) versus Surface Water (SW), and analytical groups (VOCs, SVOCS, Metals.) Some columns may be surpefluous and not used during data analysis."
   ]
  },
  {
   "cell_type": "markdown",
   "metadata": {},
   "source": [
    "2) Make a list of the fields in your data, including their names and types. If your input file is in a fixed-width format, also \n",
    "give the columns where each field appears in the data. There should be a \"codebook\" provided with your data that provides these details."
   ]
  },
  {
   "cell_type": "markdown",
   "metadata": {},
   "source": []
  },
  {
   "cell_type": "code",
   "execution_count": 10,
   "metadata": {},
   "outputs": [
    {
     "name": "stdout",
     "output_type": "stream",
     "text": [
      "Column,Column Header,Type,Definition\n",
      "A,CAS_RN,int,Cas Registry Number is a unique numeric identifier that designates only one specific substance. CAS RNs are managed by the American Chemical Society \n",
      "B,CHEMICAL_NAME,str,Common Name of the substance tested\n",
      "C,AL_RESULT_VALUE,int,\"Action Level Result is a threshold designated by the EPA for a specific contaminated Site for a specific chemical. If an analytical result is above this level, certain action may have to be implemented immediately.\"\n",
      "D,ACTION_LEVEL_UNIT,str,Chemical unit for Action Level\n",
      "E,SYS_LOC_CODE,str,\"System Location Code stands for the specific sampling location. It is unique by location only, not sampling event\"\n",
      "F,SYS_SAMPLE_CODE,str,System Sample Code stands for the specific sampling round and is unique by location and sampling round\n",
      "G,SAMPLE_ID,int,Sample ID stands for a specific analytical round and is unique per location and sampling round\n",
      "H,SAMPLE_DATE_yyyy-Qq,int,Sample Date yyyy-Qq indicates the Quarter and Year of the sampling round\n",
      "I,SAMPLEDATE,int,Sample Date indicated the exact day the location was sampled for a specific parameter\n",
      "J,SAMPLE_TYPE_CODE,str,\"Sample Type Code indicates what kind of sample was taken. FD is Field Duplicate, TB is Test Blank, N is Normal \"\n",
      "K,MATRIX_CODE,str,\"Matrix Code indicates the media sampled GW is groundwater, SW is surface water, Leachate is Leachate, WW is Wastewater\"\n",
      "L,PARENT_SAMPLE_CODE,str,Parent Sample Code is used in a Field Duplicate line to indicate the correct parent sample (the location of the original sample)\n",
      "M,LAB_SAMPLE_ID,str,Lab Sample ID is a unique identifier from the Laboratory\n",
      "N,LAB_NAME_CODE,str,Lab Name Code is an abbreviated entry from the name of the Laboratory that ran the samples\n",
      "O,FRACTION,str,\"Fraction is a type of sample. T is Total and indicates that the sample was taken without filtering, D is Dissolved and indicates that the sample was filtered in the field\"\n",
      "P,TEST_TYPE,str,\"Test Type is a code from the laboratory indicating if the sample was run with or without alteration. Initial indicates no alteration, Dilution indicates the sample was diluted before analysis, RE indicates the sample was rerun before reporting results\"\n",
      "Q,REPORT_RESULT_VALUE,int,Report Result Value is the numerical result of laboratory tests\n",
      "R,REPORT_RESULT_UNIT,str,Report Result Unit is the chemical unit of the Report Result Value\n",
      "S,REPORT_RESULT_LIMIT,int,Report Result Limit is the lowest detection limit on the laboratory equipment\n",
      "T,REPORTABLE_RESULT,str,Reportable result indicates whether the Report Result Value is a useful value from the laboratory\n",
      "U,DETECT_FLAG,str,Detect Flag indicates if the Report Result Value is higher than the Reporting Detection Limit\n",
      "V,LAB_QUALIFIERS,str,\"Lab Qualifiers are notes from the Laboratory regarding the sample results. U is Non-Detected, etc. (NEED TO ADD ADDITIONAL DEFINITION)\"\n",
      "W,REPORTING_DETECTION_LIMIT,int,Reporting Detection Limit is the value that indicates if the sample result is Non-Detect\n",
      "X,DETECTION_LIMIT_UNIT,str,Dectection Limit Unit is the chemical unit for the Reporting Detection Limit\n",
      "Y,METHOD_ANALYTE_GROUP,str,\"Method Analyte Group indicates the broad category of chemical that the CAS RN and Chemical Name belong to VOCs are volatile organic compounds, SVOCs are semi-volatile organic compounds, Metals are inorganic constituents\"\n",
      "\n"
     ]
    }
   ],
   "source": [
    "with open('../dataset/CSC593dataset_codebook.csv', 'r') as x:\n",
    "    print(x.read())"
   ]
  },
  {
   "cell_type": "markdown",
   "metadata": {},
   "source": [
    "3) List at least 3 questions you hope to be able to answer by analyzing your data."
   ]
  },
  {
   "cell_type": "markdown",
   "metadata": {},
   "source": []
  },
  {
   "cell_type": "markdown",
   "metadata": {},
   "source": [
    "1. Analyze progression of the contaminant per sample location over time with the output being time series analysis graphics with certain visual parameters.\n",
    "2. Compare certain analytical results to established Action Levels for the Site (in the subgroup Contaminants of Concern (COC)).\n",
    "3. Possibly do some basic statistical analysis, but I don't know what yet.\n",
    "4. Possibly create sample location subgroups to follow contaminant plume in different areas of the Site."
   ]
  },
  {
   "cell_type": "markdown",
   "metadata": {},
   "source": [
    "**Finally,** run the next two blocks."
   ]
  },
  {
   "cell_type": "code",
   "execution_count": 11,
   "metadata": {},
   "outputs": [
    {
     "data": {
      "text/plain": [
       "'1.2.0'"
      ]
     },
     "execution_count": 11,
     "metadata": {},
     "output_type": "execute_result"
    }
   ],
   "source": [
    "import xlrd\n",
    "xlrd.__version__"
   ]
  },
  {
   "cell_type": "code",
   "execution_count": 12,
   "metadata": {},
   "outputs": [
    {
     "data": {
      "text/plain": [
       "'2.5.12'"
      ]
     },
     "execution_count": 12,
     "metadata": {},
     "output_type": "execute_result"
    }
   ],
   "source": [
    "import openpyxl\n",
    "openpyxl.__version__"
   ]
  },
  {
   "cell_type": "code",
   "execution_count": null,
   "metadata": {},
   "outputs": [],
   "source": []
  },
  {
   "cell_type": "markdown",
   "metadata": {},
   "source": [
    "#### Submitting\n",
    "\n",
    "In the Terminal (Mac) or Git Bash (Windows):\n",
    "\n",
    "`git commit -a -m 'Assignment 3 completed'`  \n",
    "`git push`"
   ]
  },
  {
   "cell_type": "markdown",
   "metadata": {},
   "source": [
    "### Reading\n",
    "\n",
    "1. [RegexOne](https://regexone.com/): Lessons 1 through 10, and the [Python Reference](https://regexone.com/references/python)\n",
    "2. [10 Minutes to Pandas](https://pandas.pydata.org/pandas-docs/stable/getting_started/10min.html)\n",
    "3. [_Python for Data Analysis_](https://uri-primo.hosted.exlibrisgroup.com/permalink/f/10nopmq/01URI_ALMA51209454630002396):\n",
    "    * Section 1.3, \"Essential Python Libraries\"\n",
    "    * Chapter 5, \"Getting Started with `pandas`\"\n",
    "    * Sections 6.1, \"Reading and Writing Data in Text Format\" and 6.2, \"Binary Data Formats\""
   ]
  }
 ],
 "metadata": {
  "kernelspec": {
   "display_name": "Python 3",
   "language": "python",
   "name": "python3"
  },
  "language_info": {
   "codemirror_mode": {
    "name": "ipython",
    "version": 3
   },
   "file_extension": ".py",
   "mimetype": "text/x-python",
   "name": "python",
   "nbconvert_exporter": "python",
   "pygments_lexer": "ipython3",
   "version": "3.7.1"
  }
 },
 "nbformat": 4,
 "nbformat_minor": 2
}

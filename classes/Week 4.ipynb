{
 "cells": [
  {
   "cell_type": "markdown",
   "metadata": {},
   "source": [
    "# CSC 593"
   ]
  },
  {
   "cell_type": "markdown",
   "metadata": {},
   "source": [
    "## Week 4"
   ]
  },
  {
   "cell_type": "markdown",
   "metadata": {},
   "source": [
    "### Reminder\n",
    "\n",
    "Next Monday is a holiday. Our next class will be on Tuesday, October 15."
   ]
  },
  {
   "cell_type": "markdown",
   "metadata": {},
   "source": [
    "### Preliminary\n",
    "\n",
    "`git pull instructor master`"
   ]
  },
  {
   "cell_type": "markdown",
   "metadata": {},
   "source": [
    "### Last week's homework"
   ]
  },
  {
   "cell_type": "code",
   "execution_count": 122,
   "metadata": {},
   "outputs": [
    {
     "name": "stdout",
     "output_type": "stream",
     "text": [
      " T. Fahringer, R. Blasko, and H. Zima.  Automatic performance prediction to support parallelization of Fortran programs for massively parallel systems.  In Proceedings of the 1992 ACM International Conference on Supercomputing,  July 1992. \n",
      " A. D. Kallis and D. Klappholz,  ``Reaching definitions analysis on code containing array references,''  Conf. Rec. of the 4th Workshop on Languages and Compilers for Parallel Computing,  Aug. 1991. \n",
      " R. Fletcher.  Practical Methods of Optimization.  1987. \n",
      " Clark, K. L.,  Negation as Failure,  Logic and Data Bases,  1978. \n",
      " Gent, I. P., & Walsh, T.  Easy problems are sometimes hard.  Artificial Intelligence,  70,  (1994a). \n"
     ]
    }
   ],
   "source": [
    "xml = \"\"\"\n",
    "<data>\n",
    "    <citation><author> T. Fahringer, R. Blasko, and H. Zima. </author> <title> Automatic performance prediction to support parallelization of Fortran programs for massively parallel systems. </title> <booktitle> In Proceedings of the 1992 ACM International Conference on Supercomputing, </booktitle> <location> Washington, DC, </location> <date> July 1992. </date></citation>\n",
    "    <citation><author> A. D. Kallis and D. Klappholz, </author> <title> ``Reaching definitions analysis on code containing array references,'' </title> <booktitle> Conf. Rec. of the 4th Workshop on Languages and Compilers for Parallel Computing, </booktitle> <date> Aug. 1991. </date></citation>\n",
    "    <citation><author> R. Fletcher. </author> <title> Practical Methods of Optimization. </title> <publisher> John Wiley &amp; Sons, </publisher> <date> 1987. </date></citation>\n",
    "    <citation><author> Clark, K. L., </author> <title> Negation as Failure, </title> <editor> in: H. Gallaire and J. Minker (eds.), </editor> <booktitle> Logic and Data Bases, </booktitle> <publisher> Plenum Press, </publisher> <location> New York, </location> <date> 1978. </date></citation>\n",
    "    <citation><author> Gent, I. P., &amp; Walsh, T. </author> <date> (1994a). </date> <title> Easy problems are sometimes hard. </title> <journal> Artificial Intelligence, </journal> <volume> 70, </volume> <pages> 335-345. </pages></citation>\n",
    "</data>\n",
    "\"\"\"\n",
    "\n",
    "class Citation:\n",
    "    def __init__(self, details):\n",
    "        self.author = details['author']\n",
    "        self.title = details['title']\n",
    "        \n",
    "        if 'journal' in details:\n",
    "            self.journal = details['journal']\n",
    "        else:\n",
    "            self.journal = None\n",
    "            \n",
    "        if 'volume' in details:\n",
    "            self.volume = details['volume']\n",
    "        else:\n",
    "            self.volume = None\n",
    "        \n",
    "        self.number =  details['number']\n",
    "        self.book_title =  details['book_title']\n",
    "        self.date =  details['date']\n",
    "        \n",
    "    def names(self):\n",
    "        return self.author.split(',')\n",
    "    \n",
    "    def complete(self):\n",
    "        output = self.author + self.title\n",
    "        if self.journal: \n",
    "            output = output + self.journal\n",
    "        if self.volume:\n",
    "            output += self.volume\n",
    "        if self.number:\n",
    "            output += self.number\n",
    "        if self.book_title:\n",
    "            output += self.book_title\n",
    "        if self.date:\n",
    "            output += self.date\n",
    "        print(output)\n",
    "        \n",
    "#import etree\n",
    "import xml.etree.ElementTree as ET\n",
    "\n",
    "#load our string as XML and name it root\n",
    "root = ET.fromstring(xml)\n",
    "\n",
    "#loop over each citation in the XML.\n",
    "#create citation object for each one\n",
    "cites = []\n",
    "for c in root:\n",
    "    citation = {\n",
    "        'author': c.find('author').text,\n",
    "        'title' : c.find('title').text,\n",
    "    }\n",
    "    \n",
    "    if c.find('journal') != None:\n",
    "        citation['journal'] = c.find('journal').text\n",
    "    else:\n",
    "        citation['journal'] = None\n",
    "    \n",
    "    if c.find('volume') != None:\n",
    "        citation['volume'] = c.find('volume').text\n",
    "    else:\n",
    "        citation['volume'] = None\n",
    "    \n",
    "    if c.find('number') != None:\n",
    "        citation['number'] = c.find('number').text\n",
    "    else:\n",
    "        citation['number'] = None\n",
    "    \n",
    "    if c.find('booktitle') != None:\n",
    "        citation['book_title'] = c.find('booktitle').text\n",
    "    else:\n",
    "        citation['book_title'] = None\n",
    "    \n",
    "    if c.find('date') != None:\n",
    "        citation['date'] = c.find('date').text\n",
    "    else:\n",
    "        citation['date'] = None\n",
    "    \n",
    "    cites.append(Citation(citation))\n",
    "\n",
    "for c in cites:\n",
    "    c.complete()\n",
    "    #c.complete print out everything it knows about that citation"
   ]
  },
  {
   "cell_type": "markdown",
   "metadata": {},
   "source": [
    "### List comprehensions\n",
    "        \n",
    "This is new syntax that looks confusing at first, but is really just a compressed version of this loop:"
   ]
  },
  {
   "cell_type": "code",
   "execution_count": 1,
   "metadata": {},
   "outputs": [
    {
     "name": "stdout",
     "output_type": "stream",
     "text": [
      "[8, 4, 2, 3, 6, 2, 6]\n"
     ]
    }
   ],
   "source": [
    "mystring = \"Jackdaws love my big sphinx of quartz\"\n",
    "lengths = []\n",
    "for word in mystring.split():\n",
    "    lengths.append(len(word))\n",
    "print(lengths)"
   ]
  },
  {
   "cell_type": "code",
   "execution_count": 2,
   "metadata": {},
   "outputs": [
    {
     "name": "stdout",
     "output_type": "stream",
     "text": [
      "[8, 4, 2, 3, 6, 2, 6]\n"
     ]
    }
   ],
   "source": [
    "lengths2 = [len(word) for word in mystring.split()]\n",
    "print(lengths2)"
   ]
  },
  {
   "cell_type": "markdown",
   "metadata": {},
   "source": [
    "We can also do conditionals:"
   ]
  },
  {
   "cell_type": "code",
   "execution_count": 3,
   "metadata": {},
   "outputs": [
    {
     "name": "stdout",
     "output_type": "stream",
     "text": [
      "[1, 2, 9, 4, 25, 6, 49, 8, 81, 10, 121, 12, 169, 14, 225, 16, 289, 18, 361, 20, 441, 22, 529, 24, 625, 26, 729, 28, 841, 30, 961, 32, 1089, 34, 1225, 36, 1369, 38, 1521, 40, 1681, 42, 1849, 44, 2025, 46, 2209, 48, 2401, 50]\n"
     ]
    }
   ],
   "source": [
    "mylist = []\n",
    "for x in range(1, 51):\n",
    "    if x % 2:\n",
    "        mylist.append(x**2)\n",
    "    else:\n",
    "        mylist.append(x)\n",
    "\n",
    "print(mylist)"
   ]
  },
  {
   "cell_type": "markdown",
   "metadata": {},
   "source": []
  },
  {
   "cell_type": "code",
   "execution_count": 4,
   "metadata": {},
   "outputs": [
    {
     "name": "stdout",
     "output_type": "stream",
     "text": [
      "[1, 2, 9, 4, 25, 6, 49, 8, 81, 10, 121, 12, 169, 14, 225, 16, 289, 18, 361, 20, 441, 22, 529, 24, 625, 26, 729, 28, 841, 30, 961, 32, 1089, 34, 1225, 36, 1369, 38, 1521, 40, 1681, 42, 1849, 44, 2025, 46, 2209, 48, 2401, 50]\n"
     ]
    }
   ],
   "source": [
    "mylist2 = [x**2 if x % 2 else x for x in range(1,51) ]\n",
    "print(mylist2)"
   ]
  },
  {
   "cell_type": "markdown",
   "metadata": {},
   "source": [
    "#### Practice"
   ]
  },
  {
   "cell_type": "markdown",
   "metadata": {},
   "source": [
    "Write a function, `first_letters` that takes a list of words and returns a list of the first letters of each element of the input. For example, `first_letters(['Here', 'are', 'some', 'words'])` should return `['H', 'a', 's', 'w']`."
   ]
  },
  {
   "cell_type": "code",
   "execution_count": 10,
   "metadata": {},
   "outputs": [],
   "source": [
    "def first_letters(words):\n",
    "    #Replace [] with your code.\n",
    "    output = [word[0] for word in words]\n",
    "    return output"
   ]
  },
  {
   "cell_type": "code",
   "execution_count": 11,
   "metadata": {},
   "outputs": [
    {
     "name": "stdout",
     "output_type": "stream",
     "text": [
      "['I', 'i', 'a', 't', 'u', 'a', 't', 'a', 's', 'm', 'i', 'p', 'o', 'a', 'g', 'f', 'm', 'b', 'i', 'w', 'o', 'a', 'w']\n"
     ]
    }
   ],
   "source": [
    "initials = first_letters('It is a truth universally acknowledged, that a single man in possession of a good fortune, must be in want of a wife.'.split())\n",
    "print(initials)"
   ]
  },
  {
   "cell_type": "markdown",
   "metadata": {},
   "source": [
    "Now create `first_letters_except` below. It should return the initials of each word, like `first letters`, but words that are found in `stopwords` should be replaced with `None`."
   ]
  },
  {
   "cell_type": "code",
   "execution_count": 12,
   "metadata": {},
   "outputs": [],
   "source": [
    "def first_letters_except(words, stopwords):\n",
    "    #Replace [] with your code.\n",
    "    output = [None if word in stopwords else word[0] for word in words]\n",
    "    return output\n",
    "\n",
    "#OR\n",
    "# def first_letters_except(words, stopwords:\n",
    "#output = word[0] if not in stopwords else None for word in words)\n",
    "#return output"
   ]
  },
  {
   "cell_type": "code",
   "execution_count": 13,
   "metadata": {},
   "outputs": [
    {
     "name": "stdout",
     "output_type": "stream",
     "text": [
      "['A', 'p', 'p', None, 's', 'p', None, 'F', 'p', None, 'm', 'p', 's']\n"
     ]
    }
   ],
   "source": [
    "sometitle = \"Automatic performance prediction to support parallelization of Fortran programs for massively parallel systems.\"\n",
    "stopwords = ['the', 'and', 'to', 'of', 'for']\n",
    "\n",
    "initials = first_letters_except(sometitle.split(), stopwords)\n",
    "print(initials)"
   ]
  },
  {
   "cell_type": "code",
   "execution_count": 62,
   "metadata": {},
   "outputs": [],
   "source": [
    "def first_letters_except_loop(words, stopwords):\n"
   ]
  },
  {
   "cell_type": "markdown",
   "metadata": {},
   "source": [
    "### Functions (continued)"
   ]
  },
  {
   "cell_type": "markdown",
   "metadata": {},
   "source": [
    "#### Return - ends the function and sends back whatever you call as the response\n",
    "#### Nothing in the function happens after a return command"
   ]
  },
  {
   "cell_type": "code",
   "execution_count": 14,
   "metadata": {},
   "outputs": [],
   "source": [
    "from statistics import mean"
   ]
  },
  {
   "cell_type": "code",
   "execution_count": 15,
   "metadata": {},
   "outputs": [
    {
     "data": {
      "text/plain": [
       "4.428571428571429"
      ]
     },
     "execution_count": 15,
     "metadata": {},
     "output_type": "execute_result"
    }
   ],
   "source": [
    "def average_length(words):\n",
    "    lengths = [len(word) for word in words]\n",
    "    return mean(lengths)\n",
    "    \n",
    "average_length(mystring.split())"
   ]
  },
  {
   "cell_type": "markdown",
   "metadata": {},
   "source": [
    "#### Arguments\n",
    "\n",
    "We can define a function with a variable number of arguments like this:"
   ]
  },
  {
   "cell_type": "code",
   "execution_count": 18,
   "metadata": {},
   "outputs": [
    {
     "data": {
      "text/plain": [
       "4.428571428571429"
      ]
     },
     "execution_count": 18,
     "metadata": {},
     "output_type": "execute_result"
    }
   ],
   "source": [
    "def average_length2(*words):\n",
    "    lengths = [len(word) for word in words]\n",
    "    return mean(lengths)\n",
    "\n",
    "\n",
    "average_length2(\"Jackdaws\", \"love\", \"my\", \"big\", \"sphinx\", \"of\", \"quartz\")"
   ]
  },
  {
   "cell_type": "code",
   "execution_count": 19,
   "metadata": {},
   "outputs": [
    {
     "name": "stdout",
     "output_type": "stream",
     "text": [
      "4.111111111111111\n"
     ]
    }
   ],
   "source": [
    "#asterisk tells it to interate over multiple elements in a list\n",
    "def average_length3(*words, print_ret=False):\n",
    "    output = average_length2(*words)\n",
    "    if print_ret:\n",
    "        print(output)\n",
    "    else:\n",
    "        return output\n",
    "\n",
    "average_length3(\"The\", \"quick\", \"brown\", \"fox\", \"jumped\", \"over\", \"the\", \"lazy\", \"dogs\", print_ret=True)"
   ]
  },
  {
   "cell_type": "markdown",
   "metadata": {},
   "source": [
    "We can provide default values for arguments (making those arguments optional):"
   ]
  },
  {
   "cell_type": "code",
   "execution_count": 20,
   "metadata": {},
   "outputs": [],
   "source": [
    "def func1(first, second, third, fourth, fifth, sixth = 6, seventh = 7, *more):\n",
    "    outp = \"\"\"First: %s\n",
    "Second: %s\n",
    "Third: %s\n",
    "Fourth: %s\n",
    "Fifth: %s\n",
    "Sixth: %s\n",
    "Seventh: %s\n",
    "\"\"\" % (first, second, third, fourth, fifth, sixth, seventh)\n",
    "    if more:\n",
    "        outp += \"More: \"+str(more)\n",
    "    return outp"
   ]
  },
  {
   "cell_type": "code",
   "execution_count": 21,
   "metadata": {},
   "outputs": [
    {
     "name": "stdout",
     "output_type": "stream",
     "text": [
      "Call the function with all arguments:\n",
      "First: 1\n",
      "Second: 2\n",
      "Third: 3\n",
      "Fourth: 4\n",
      "Fifth: 5\n",
      "Sixth: 6\n",
      "Seventh: 7\n",
      "More: (8, 19)\n"
     ]
    }
   ],
   "source": [
    "print(\"Call the function with all arguments:\")\n",
    "print(func1(1,2,3,4,5,6,7,8,19))"
   ]
  },
  {
   "cell_type": "code",
   "execution_count": 22,
   "metadata": {},
   "outputs": [
    {
     "name": "stdout",
     "output_type": "stream",
     "text": [
      "sixth and seventh are optional.\n",
      "First: one\n",
      "Second: two\n",
      "Third: three\n",
      "Fourth: four\n",
      "Fifth: five\n",
      "Sixth: 6\n",
      "Seventh: 7\n",
      "\n"
     ]
    }
   ],
   "source": [
    "print(\"sixth and seventh are optional.\")\n",
    "print(func1(\"one\", \"two\", \"three\", \"four\", \"five\"))"
   ]
  },
  {
   "cell_type": "markdown",
   "metadata": {},
   "source": [
    "When calling a function, we can provide some or all arguments by name (this is most useful with functions with a large number of arguments, many of them optional):"
   ]
  },
  {
   "cell_type": "code",
   "execution_count": 23,
   "metadata": {},
   "outputs": [
    {
     "name": "stdout",
     "output_type": "stream",
     "text": [
      "Call using named arguments\n",
      "First: one\n",
      "Second: two\n",
      "Third: three\n",
      "Fourth: four\n",
      "Fifth: five\n",
      "Sixth: 6\n",
      "Seventh: 7\n",
      "\n"
     ]
    }
   ],
   "source": [
    "print(\"Call using named arguments\")\n",
    "print(func1(third=\"three\", first=\"one\", fifth=\"five\", second=\"two\", fourth=\"four\"))"
   ]
  },
  {
   "cell_type": "code",
   "execution_count": 24,
   "metadata": {},
   "outputs": [
    {
     "name": "stdout",
     "output_type": "stream",
     "text": [
      "Use some named, some positional arguments\n",
      "First: one\n",
      "Second: two\n",
      "Third: three\n",
      "Fourth: four\n",
      "Fifth: five\n",
      "Sixth: 6\n",
      "Seventh: seven\n",
      "\n"
     ]
    }
   ],
   "source": [
    "print(\"Use some named, some positional arguments\")\n",
    "print(func1(\"one\", \"two\", \"three\", fifth=\"five\", fourth=\"four\", seventh=\"seven\"))"
   ]
  },
  {
   "cell_type": "markdown",
   "metadata": {},
   "source": [
    "You can also use a list or dictionary with your arguments:"
   ]
  },
  {
   "cell_type": "code",
   "execution_count": 25,
   "metadata": {},
   "outputs": [
    {
     "name": "stdout",
     "output_type": "stream",
     "text": [
      "Call the function using a list for arguments\n",
      "[1, 2, 3, 4, 5, 6, 7]\n",
      "First: 1\n",
      "Second: 2\n",
      "Third: 3\n",
      "Fourth: 4\n",
      "Fifth: 5\n",
      "Sixth: 6\n",
      "Seventh: 7\n",
      "\n"
     ]
    }
   ],
   "source": [
    "print(\"Call the function using a list for arguments\")\n",
    "mylist = list(range(1,8))\n",
    "print(mylist)\n",
    "print(func1(*mylist))"
   ]
  },
  {
   "cell_type": "code",
   "execution_count": 26,
   "metadata": {},
   "outputs": [
    {
     "name": "stdout",
     "output_type": "stream",
     "text": [
      "sixth and seventh are still optional.\n",
      "[1, 2, 3, 4, 5]\n",
      "First: 1\n",
      "Second: 2\n",
      "Third: 3\n",
      "Fourth: 4\n",
      "Fifth: 5\n",
      "Sixth: 6\n",
      "Seventh: 7\n",
      "\n"
     ]
    }
   ],
   "source": [
    "print(\"sixth and seventh are still optional.\")\n",
    "mylist = list(range(1,6))\n",
    "print(mylist)\n",
    "print(func1(*mylist))"
   ]
  },
  {
   "cell_type": "code",
   "execution_count": 27,
   "metadata": {},
   "outputs": [
    {
     "name": "stdout",
     "output_type": "stream",
     "text": [
      "Using a dictionary\n",
      "First: 1\n",
      "Second: 2\n",
      "Third: 3\n",
      "Fourth: 4\n",
      "Fifth: 5\n",
      "Sixth: 6\n",
      "Seventh: 7\n",
      "\n"
     ]
    }
   ],
   "source": [
    "mydict = {\n",
    "    \"sixth\":6, \"seventh\": 7,\"second\": 2, \"third\": 3, \"first\": 1, \"fourth\": 4, \"fifth\": 5, \n",
    "}\n",
    "print(\"Using a dictionary\")\n",
    "print(func1(**mydict))"
   ]
  },
  {
   "cell_type": "code",
   "execution_count": 28,
   "metadata": {},
   "outputs": [
    {
     "name": "stdout",
     "output_type": "stream",
     "text": [
      "You can use both a list and a dictionary\n",
      "First: 1\n",
      "Second: 2\n",
      "Third: 3\n",
      "Fourth: four\n",
      "Fifth: five\n",
      "Sixth: 6\n",
      "Seventh: 7\n",
      "\n"
     ]
    }
   ],
   "source": [
    "print(\"You can use both a list and a dictionary\")\n",
    "print(func1(*[1,2,3], **{\"fourth\": \"four\", \"fifth\": \"five\"}))"
   ]
  },
  {
   "cell_type": "markdown",
   "metadata": {},
   "source": [
    "#### Practice"
   ]
  },
  {
   "cell_type": "markdown",
   "metadata": {},
   "source": [
    "Modify your `first_letters_except` function so that `stopwords` are entered as separate variables See the example of calling the new function two boxes down--this call should work the same as the call to `first_letters_except` above."
   ]
  },
  {
   "cell_type": "code",
   "execution_count": 39,
   "metadata": {},
   "outputs": [],
   "source": [
    "def first_letters_except2(words, *stopwords):\n",
    "    #Replace [].\n",
    "    output = [word[0] if word not in stopwords else None for word in words]\n",
    "    return output"
   ]
  },
  {
   "cell_type": "code",
   "execution_count": 40,
   "metadata": {},
   "outputs": [
    {
     "name": "stdout",
     "output_type": "stream",
     "text": [
      "Automatic performance prediction to support parallelization of Fortran programs for massively parallel systems.\n",
      "['A', 'p', 'p', None, 's', 'p', None, 'F', 'p', None, 'm', 'p', 's']\n"
     ]
    }
   ],
   "source": [
    "print(sometitle)\n",
    "initials = first_letters_except2(sometitle.split(), 'the', 'and', 'to', 'of', 'for')\n",
    "print(initials)"
   ]
  },
  {
   "cell_type": "markdown",
   "metadata": {},
   "source": [
    "### Decorators\n",
    "\n",
    "_Decorators_ allow us to change the behavior of a function or method. \n",
    "\n",
    "(You can write your own decorators, but we won't need that functionality here. I mostly want you to be aware of the syntax in case you see it elsewhere.)\n",
    "\n",
    "Here, I've modified the `Citation` class from last week. Its _constructor_ (the `__init__()__` method that runs when a new `Citation` is created) now takes individual variables for `author`, `title`, etc. I've also added a \"static method\" called `from_dict`."
   ]
  },
  {
   "cell_type": "code",
   "execution_count": 41,
   "metadata": {},
   "outputs": [],
   "source": [
    "class Citation:\n",
    "    def __init__(self, author=None, title=None, journal=None, volume=None, number=None, book_title=None, date=None):\n",
    "        self.author = author\n",
    "        self.title = title\n",
    "        self.journal = journal\n",
    "        self.volume = volume\n",
    "        self.number = number\n",
    "        self.book_title = book_title\n",
    "        self.date = date\n",
    "        \n",
    "\n",
    "   \n",
    "        \n",
    "        return Citation(**details)\n",
    "        \n",
    "    def names(self):\n",
    "        return self.author.split(',')\n",
    "    \n",
    "    def complete(self):\n",
    "        output = self.author + self.title\n",
    "        if self.journal: \n",
    "            output = output + self.journal\n",
    "        if self.volume:\n",
    "            output += self.volume\n",
    "        if self.number:\n",
    "            output += self.number\n",
    "        if self.book_title:\n",
    "            output += self.book_title\n",
    "        if self.date:\n",
    "            output += self.date\n",
    "        print(output)"
   ]
  },
  {
   "cell_type": "markdown",
   "metadata": {},
   "source": [
    "#### Static Methods\n",
    "\n",
    "Usually, we run methods on _instances_ of classes--we create an object of that class, then use its functionality:"
   ]
  },
  {
   "cell_type": "code",
   "execution_count": 42,
   "metadata": {},
   "outputs": [
    {
     "name": "stdout",
     "output_type": "stream",
     "text": [
      "A. Cau, R. Kuiper, and W.-P. de Roever.Formalising Dijkstra's development strategy within Stark's formalism. Proc. 5th. BCS-FACS Refinement Workshop, 1992.\n"
     ]
    }
   ],
   "source": [
    "c = Citation('A. Cau, R. Kuiper, and W.-P. de Roever.',\n",
    "                \"Formalising Dijkstra's development strategy within Stark's formalism. \",\n",
    "                book_title=\"Proc. 5th. BCS-FACS Refinement Workshop, \",\n",
    "                date=\"1992.\")\n",
    "c.complete()"
   ]
  },
  {
   "cell_type": "markdown",
   "metadata": {},
   "source": [
    "Static methods run on the class itself. It can be an alternate way to create an instance of the class (as it is here), or some functionality related to the class:"
   ]
  },
  {
   "cell_type": "code",
   "execution_count": 43,
   "metadata": {},
   "outputs": [
    {
     "name": "stdout",
     "output_type": "stream",
     "text": [
      "A. Cau, R. Kuiper, and W.-P. de Roever.Formalising Dijkstra's development strategy within Stark's formalism. Proc. 5th. BCS-FACS Refinement Workshop, 1992.\n"
     ]
    }
   ],
   "source": [
    "det = {\n",
    "    'author':             'A. Cau, R. Kuiper, and W.-P. de Roever.',\n",
    "    'title':              \"Formalising Dijkstra's development strategy within Stark's formalism. \",\n",
    "    'journal':            None,\n",
    "    'volume':             None,\n",
    "    'number':             None,\n",
    "    'book_title':         \"Proc. 5th. BCS-FACS Refinement Workshop, \",\n",
    "    'date':               \"1992.\"\n",
    "}\n",
    "c = Citation.from_dict(det)\n",
    "c.complete()"
   ]
  },
  {
   "cell_type": "markdown",
   "metadata": {},
   "source": [
    "#### Practice"
   ]
  },
  {
   "cell_type": "markdown",
   "metadata": {},
   "source": [
    "Create a new static method of the `Citation` class, `from_xml`, that takes a single `<citation>` element from our XML and returns a new Citation from that data. Most of the code you'll need for this is in your homework (or above)."
   ]
  },
  {
   "cell_type": "code",
   "execution_count": 49,
   "metadata": {},
   "outputs": [],
   "source": [
    "xml = \"\"\"\n",
    "<data>\n",
    "    <citation><author> T. Fahringer, R. Blasko, and H. Zima. </author> <title> Automatic performance prediction to support parallelization of Fortran programs for massively parallel systems. </title> <booktitle> In Proceedings of the 1992 ACM International Conference on Supercomputing, </booktitle> <location> Washington, DC, </location> <date> July 1992. </date></citation>\n",
    "    <citation><author> A. D. Kallis and D. Klappholz, </author> <title> ``Reaching definitions analysis on code containing array references,'' </title> <booktitle> Conf. Rec. of the 4th Workshop on Languages and Compilers for Parallel Computing, </booktitle> <date> Aug. 1991. </date></citation>\n",
    "    <citation><author> R. Fletcher. </author> <title> Practical Methods of Optimization. </title> <publisher> John Wiley &amp; Sons, </publisher> <date> 1987. </date></citation>\n",
    "    <citation><author> Clark, K. L., </author> <title> Negation as Failure, </title> <editor> in: H. Gallaire and J. Minker (eds.), </editor> <booktitle> Logic and Data Bases, </booktitle> <publisher> Plenum Press, </publisher> <location> New York, </location> <date> 1978. </date></citation>\n",
    "    <citation><author> Gent, I. P., &amp; Walsh, T. </author> <date> (1994a). </date> <title> Easy problems are sometimes hard. </title> <journal> Artificial Intelligence, </journal> <volume> 70, </volume> <pages> 335-345. </pages></citation>\n",
    "</data>\n",
    "\"\"\""
   ]
  },
  {
   "cell_type": "code",
   "execution_count": 57,
   "metadata": {},
   "outputs": [],
   "source": [
    "    @staticmethod\n",
    "    def from_xml(xml):\n",
    "        if 'journal' not in details:\n",
    "            details['journal'] = None\n",
    "        \n",
    "        if 'volume' not in details:\n",
    "            details['volume'] = None\n",
    "        \n",
    "        if 'number' not in details:\n",
    "            details['number'] = None\n",
    "        \n",
    "        if 'book_title' not in details:\n",
    "            details['book_title']\n",
    "        \n",
    "        if 'date' not in details:\n",
    "            details['date']\n",
    "        \n",
    "        return Citation(**details)"
   ]
  },
  {
   "cell_type": "code",
   "execution_count": 60,
   "metadata": {},
   "outputs": [],
   "source": [
    "class Citation:\n",
    "    def __init__(self, author=None, title=None, journal=None, volume=None, number=None, book_title=None, date=None):\n",
    "        self.author = author\n",
    "        self.title = title\n",
    "        self.journal = journal\n",
    "        self.volume = volume\n",
    "        self.number = number\n",
    "        self.book_title = book_title\n",
    "        self.date = date\n",
    "        \n",
    "    @staticmethod\n",
    "    def from_dict(details):\n",
    "        if 'journal' not in details:\n",
    "            details['journal'] = None\n",
    "        \n",
    "        if 'volume' not in details:\n",
    "            details['volume'] = None\n",
    "        \n",
    "        if 'number' not in details:\n",
    "            details['number'] = None\n",
    "        \n",
    "        if 'book_title' not in details:\n",
    "            details['book_title']\n",
    "        \n",
    "        if 'date' not in details:\n",
    "            details['date']\n",
    "        \n",
    "        return Citation(**details)\n",
    "    \n",
    "    @staticmethod\n",
    "    def from_dict(details):\n",
    "        deets = {\n",
    "                'author': xml.find('author').text,\n",
    "                'title' : xml.find('title').text,\n",
    "            #etc....\n",
    "        }\n",
    "    \n",
    "    def names(self):\n",
    "        return self.author.split(',')\n",
    "    \n",
    "    def complete(self):\n",
    "        output = self.author + self.title\n",
    "        if self.journal: \n",
    "            output = output + self.journal\n",
    "        if self.volume:\n",
    "            output += self.volume\n",
    "        if self.number:\n",
    "            output += self.number\n",
    "        if self.book_title:\n",
    "            output += self.book_title\n",
    "        if self.date:\n",
    "            output += self.date\n",
    "        print(output)"
   ]
  },
  {
   "cell_type": "code",
   "execution_count": 61,
   "metadata": {},
   "outputs": [
    {
     "ename": "TypeError",
     "evalue": "element indices must be integers",
     "output_type": "error",
     "traceback": [
      "\u001b[1;31m---------------------------------------------------------------------------\u001b[0m",
      "\u001b[1;31mTypeError\u001b[0m                                 Traceback (most recent call last)",
      "\u001b[1;32m<ipython-input-61-cdae06a7927f>\u001b[0m in \u001b[0;36m<module>\u001b[1;34m\u001b[0m\n\u001b[0;32m      8\u001b[0m \u001b[1;33m\u001b[0m\u001b[0m\n\u001b[0;32m      9\u001b[0m \u001b[1;32mfor\u001b[0m \u001b[0mc\u001b[0m \u001b[1;32min\u001b[0m \u001b[0mroot\u001b[0m\u001b[1;33m:\u001b[0m\u001b[1;33m\u001b[0m\u001b[1;33m\u001b[0m\u001b[0m\n\u001b[1;32m---> 10\u001b[1;33m     \u001b[0mcites\u001b[0m\u001b[1;33m.\u001b[0m\u001b[0mappend\u001b[0m\u001b[1;33m(\u001b[0m\u001b[0mCitation\u001b[0m\u001b[1;33m.\u001b[0m\u001b[0mfrom_xml\u001b[0m\u001b[1;33m(\u001b[0m\u001b[0mc\u001b[0m\u001b[1;33m)\u001b[0m\u001b[1;33m)\u001b[0m\u001b[1;33m\u001b[0m\u001b[1;33m\u001b[0m\u001b[0m\n\u001b[0m\u001b[0;32m     11\u001b[0m \u001b[1;33m\u001b[0m\u001b[0m\n\u001b[0;32m     12\u001b[0m \u001b[1;32mfor\u001b[0m \u001b[0mc\u001b[0m \u001b[1;32min\u001b[0m \u001b[0mcites\u001b[0m\u001b[1;33m:\u001b[0m\u001b[1;33m\u001b[0m\u001b[1;33m\u001b[0m\u001b[0m\n",
      "\u001b[1;32m<ipython-input-60-7b193dbb15f5>\u001b[0m in \u001b[0;36mfrom_xml\u001b[1;34m(xml)\u001b[0m\n\u001b[0;32m     31\u001b[0m     \u001b[1;32mdef\u001b[0m \u001b[0mfrom_xml\u001b[0m\u001b[1;33m(\u001b[0m\u001b[0mxml\u001b[0m\u001b[1;33m)\u001b[0m\u001b[1;33m:\u001b[0m\u001b[1;33m\u001b[0m\u001b[1;33m\u001b[0m\u001b[0m\n\u001b[0;32m     32\u001b[0m         \u001b[1;32mif\u001b[0m \u001b[1;34m'journal'\u001b[0m \u001b[1;32mnot\u001b[0m \u001b[1;32min\u001b[0m \u001b[0mxml\u001b[0m\u001b[1;33m:\u001b[0m\u001b[1;33m\u001b[0m\u001b[1;33m\u001b[0m\u001b[0m\n\u001b[1;32m---> 33\u001b[1;33m             \u001b[0mxml\u001b[0m\u001b[1;33m[\u001b[0m\u001b[1;34m'journal'\u001b[0m\u001b[1;33m]\u001b[0m \u001b[1;33m=\u001b[0m \u001b[1;32mNone\u001b[0m\u001b[1;33m\u001b[0m\u001b[1;33m\u001b[0m\u001b[0m\n\u001b[0m\u001b[0;32m     34\u001b[0m \u001b[1;33m\u001b[0m\u001b[0m\n\u001b[0;32m     35\u001b[0m         \u001b[1;32mif\u001b[0m \u001b[1;34m'volume'\u001b[0m \u001b[1;32mnot\u001b[0m \u001b[1;32min\u001b[0m \u001b[0mxml\u001b[0m\u001b[1;33m:\u001b[0m\u001b[1;33m\u001b[0m\u001b[1;33m\u001b[0m\u001b[0m\n",
      "\u001b[1;31mTypeError\u001b[0m: element indices must be integers"
     ]
    }
   ],
   "source": [
    "#import etree\n",
    "import xml.etree.ElementTree as ET\n",
    "\n",
    "#load our string as XML and name it root\n",
    "root = ET.fromstring(xml)\n",
    "\n",
    "cites = []\n",
    "\n",
    "for c in root:\n",
    "    cites.append(Citation.from_xml(c))\n",
    "\n",
    "for c in cites:\n",
    "    c.complete()"
   ]
  },
  {
   "cell_type": "code",
   "execution_count": null,
   "metadata": {},
   "outputs": [],
   "source": []
  }
 ],
 "metadata": {
  "kernelspec": {
   "display_name": "Python 3",
   "language": "python",
   "name": "python3"
  },
  "language_info": {
   "codemirror_mode": {
    "name": "ipython",
    "version": 3
   },
   "file_extension": ".py",
   "mimetype": "text/x-python",
   "name": "python",
   "nbconvert_exporter": "python",
   "pygments_lexer": "ipython3",
   "version": "3.7.1"
  }
 },
 "nbformat": 4,
 "nbformat_minor": 2
}
